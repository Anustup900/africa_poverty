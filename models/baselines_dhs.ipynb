{
 "cells": [
  {
   "cell_type": "markdown",
   "metadata": {
    "toc": true
   },
   "source": [
    "<h1>Table of Contents<span class=\"tocSkip\"></span></h1>\n",
    "<div class=\"toc\"><ul class=\"toc-item\"><li><span><a href=\"#Imports-and-Constants\" data-toc-modified-id=\"Imports-and-Constants-1\"><span class=\"toc-item-num\">1&nbsp;&nbsp;</span>Imports and Constants</a></span></li><li><span><a href=\"#Load-histograms-(or-create-if-needed)\" data-toc-modified-id=\"Load-histograms-(or-create-if-needed)-2\"><span class=\"toc-item-num\">2&nbsp;&nbsp;</span>Load histograms (or create if needed)</a></span><ul class=\"toc-item\"><li><span><a href=\"#Split-NL-band\" data-toc-modified-id=\"Split-NL-band-2.1\"><span class=\"toc-item-num\">2.1&nbsp;&nbsp;</span>Split NL band</a></span></li><li><span><a href=\"#Plot-histograms\" data-toc-modified-id=\"Plot-histograms-2.2\"><span class=\"toc-item-num\">2.2&nbsp;&nbsp;</span>Plot histograms</a></span></li></ul></li><li><span><a href=\"#Load-folds\" data-toc-modified-id=\"Load-folds-3\"><span class=\"toc-item-num\">3&nbsp;&nbsp;</span>Load folds</a></span><ul class=\"toc-item\"><li><span><a href=\"#Incountry-folds-+-loc_dict\" data-toc-modified-id=\"Incountry-folds-+-loc_dict-3.1\"><span class=\"toc-item-num\">3.1&nbsp;&nbsp;</span>Incountry folds + loc_dict</a></span></li><li><span><a href=\"#country_indices-and-country_labels\" data-toc-modified-id=\"country_indices-and-country_labels-3.2\"><span class=\"toc-item-num\">3.2&nbsp;&nbsp;</span><code>country_indices</code> and <code>country_labels</code></a></span></li><li><span><a href=\"#OOC-folds\" data-toc-modified-id=\"OOC-folds-3.3\"><span class=\"toc-item-num\">3.3&nbsp;&nbsp;</span>OOC folds</a></span></li><li><span><a href=\"#Urban-v.-Rural\" data-toc-modified-id=\"Urban-v.-Rural-3.4\"><span class=\"toc-item-num\">3.4&nbsp;&nbsp;</span>Urban v. Rural</a></span></li></ul></li><li><span><a href=\"#Dumb-Baseline-Models\" data-toc-modified-id=\"Dumb-Baseline-Models-4\"><span class=\"toc-item-num\">4&nbsp;&nbsp;</span>Dumb Baseline Models</a></span><ul class=\"toc-item\"><li><span><a href=\"#Incountry:-predict-country-mean\" data-toc-modified-id=\"Incountry:-predict-country-mean-4.1\"><span class=\"toc-item-num\">4.1&nbsp;&nbsp;</span>Incountry: predict country mean</a></span></li><li><span><a href=\"#KNN-on-Nightlights\" data-toc-modified-id=\"KNN-on-Nightlights-4.2\"><span class=\"toc-item-num\">4.2&nbsp;&nbsp;</span>KNN on Nightlights</a></span><ul class=\"toc-item\"><li><span><a href=\"#OOC\" data-toc-modified-id=\"OOC-4.2.1\"><span class=\"toc-item-num\">4.2.1&nbsp;&nbsp;</span>OOC</a></span></li><li><span><a href=\"#Incountry\" data-toc-modified-id=\"Incountry-4.2.2\"><span class=\"toc-item-num\">4.2.2&nbsp;&nbsp;</span>Incountry</a></span></li></ul></li><li><span><a href=\"#TODO:-KNN-on-Histograms\" data-toc-modified-id=\"TODO:-KNN-on-Histograms-4.3\"><span class=\"toc-item-num\">4.3&nbsp;&nbsp;</span>TODO: KNN on Histograms</a></span></li></ul></li><li><span><a href=\"#Ridge-Regression-on-Histograms\" data-toc-modified-id=\"Ridge-Regression-on-Histograms-5\"><span class=\"toc-item-num\">5&nbsp;&nbsp;</span>Ridge Regression on Histograms</a></span><ul class=\"toc-item\"><li><span><a href=\"#OOC\" data-toc-modified-id=\"OOC-5.1\"><span class=\"toc-item-num\">5.1&nbsp;&nbsp;</span>OOC</a></span></li><li><span><a href=\"#Incountry\" data-toc-modified-id=\"Incountry-5.2\"><span class=\"toc-item-num\">5.2&nbsp;&nbsp;</span>Incountry</a></span></li></ul></li></ul></div>"
   ]
  },
  {
   "cell_type": "markdown",
   "metadata": {},
   "source": [
    "Prerequisites:\n",
    "1. Run `preprocessing/analyze_tfrecords_dhs.ipynb`.\n",
    "2. Run `data_analysis/dhs.ipynb` to create the `dhs_loc_dict.pkl` and `dhs_incountry_folds.pkl`."
   ]
  },
  {
   "cell_type": "markdown",
   "metadata": {},
   "source": [
    "# Imports and Constants"
   ]
  },
  {
   "cell_type": "code",
   "execution_count": 1,
   "metadata": {},
   "outputs": [],
   "source": [
    "%load_ext autoreload\n",
    "%autoreload 2\n",
    "%matplotlib inline"
   ]
  },
  {
   "cell_type": "code",
   "execution_count": 2,
   "metadata": {},
   "outputs": [],
   "source": [
    "from collections import defaultdict\n",
    "import os\n",
    "import pickle\n",
    "import sys\n",
    "\n",
    "import matplotlib.pyplot as plt\n",
    "import numpy as np\n",
    "import sklearn.neighbors\n",
    "\n",
    "sys.path.append('../')\n",
    "from batchers import batcher, dataset_constants\n",
    "from models.histograms import (\n",
    "    get_per_image_histograms,\n",
    "    plot_band_hists,\n",
    "    plot_label_hist,\n",
    "    split_nl_hist)\n",
    "from models.linear_model import ridge_cv\n",
    "from utils.analysis import calc_score, evaluate\n",
    "from utils.general import load_npz\n",
    "from utils.plot import scatter_preds"
   ]
  },
  {
   "cell_type": "code",
   "execution_count": 3,
   "metadata": {},
   "outputs": [],
   "source": [
    "os.environ['CUDA_VISIBLE_DEVICES'] = ''\n",
    "\n",
    "DATASET_NAME = '2009-17'\n",
    "LABEL_NAME = 'wealthpooled'\n",
    "\n",
    "FOLDS = ['A', 'B', 'C', 'D', 'E']\n",
    "SPLITS = ['train', 'val', 'test']\n",
    "COUNTRIES = dataset_constants.DHS_COUNTRIES\n",
    "\n",
    "MEANS = dataset_constants.MEANS_DICT[DATASET_NAME]\n",
    "STD_DEVS = dataset_constants.STD_DEVS_DICT[DATASET_NAME]\n",
    "\n",
    "LOGS_ROOT_DIR = '../logs/'"
   ]
  },
  {
   "cell_type": "markdown",
   "metadata": {},
   "source": [
    "# Load histograms (or create if needed)"
   ]
  },
  {
   "cell_type": "code",
   "execution_count": 4,
   "metadata": {},
   "outputs": [],
   "source": [
    "# BAND_BIN_EDGES = [-10^5, -5.0, -4.9, -4.8, ..., 4.8, 4.9, 5.0, 10^5]\n",
    "# BAND_BIN_CENTERS = [-5.05, -4.95, -4.85, ..., 4.85, 4.95, 5.05]\n",
    "BAND_BIN_EDGES = np.concatenate([\n",
    "    [-1e5],\n",
    "    np.arange(-5.0, 5.1, 0.1),\n",
    "    [1e5]\n",
    "])\n",
    "BAND_BIN_CENTERS = np.arange(-5.05, 5.15, 0.1)\n",
    "\n",
    "# LABEL_BIN_EDGES = [-2.0, -1.9, ..., 2.8, 2.9]\n",
    "# LABEL_BIN_CENTERS = [-1.95, -1.85, ..., 2.75, 2.85]\n",
    "LABEL_BIN_EDGES = np.arange(-2.0, 3.0, 0.1)\n",
    "LABEL_BIN_CENTERS = np.arange(-1.95, 2.95, 0.1)\n",
    "\n",
    "# band name => color for plotting\n",
    "BAND_COLORS = {\n",
    "    'BLUE'  : 'blue',\n",
    "    'GREEN' : 'green',\n",
    "    'RED'   : 'red',\n",
    "    'SWIR1' : 'purple',\n",
    "    'SWIR2' : 'brown',\n",
    "    'TEMP1' : 'orange',\n",
    "    'NIR'   : 'pink',\n",
    "    'NIGHTLIGHTS': 'black',\n",
    "    'DMSP'  : 'black',\n",
    "    'VIIRS' : 'gray',\n",
    "}\n",
    "BAND_ORDER = ['BLUE', 'GREEN', 'RED', 'SWIR1', 'TEMP1', 'SWIR2', 'NIR', 'NIGHTLIGHTS']\n",
    "BAND_ORDER_NLSPLIT = ['BLUE', 'GREEN', 'RED', 'SWIR1', 'TEMP1', 'SWIR2', 'NIR', 'DMSP', 'VIIRS']\n",
    "\n",
    "BANDS_DICT = {\n",
    "    'rgb': [0, 1, 2],\n",
    "    'rgbnl': [0, 1, 2, 7, 8],\n",
    "    'ms': [0, 1, 2, 3, 4, 5, 6],\n",
    "    'msnl': [0, 1, 2, 3, 4, 5, 6, 7, 8],\n",
    "    'nl': [7, 8],\n",
    "}"
   ]
  },
  {
   "cell_type": "code",
   "execution_count": 5,
   "metadata": {},
   "outputs": [],
   "source": [
    "def get_batcher(tfrecord_files):\n",
    "    return batcher.Batcher(\n",
    "        tfrecord_files=tfrecord_files,\n",
    "        dataset=DATASET_NAME,\n",
    "        batch_size=128,\n",
    "        ls_bands='ms',\n",
    "        nl_band='merge',\n",
    "        label_name=LABEL_NAME,\n",
    "        shuffle=False,\n",
    "        augment=False,\n",
    "        negatives='zero',\n",
    "        normalize=True)"
   ]
  },
  {
   "cell_type": "code",
   "execution_count": 6,
   "metadata": {},
   "outputs": [],
   "source": [
    "file_path = '../data/dhs_image_hists.npz'\n",
    "\n",
    "if not os.path.exists(file_path):\n",
    "    # THIS REQUIRES >= 35 GB RAM\n",
    "    tfrecord_paths = batcher.get_tfrecord_paths(dataset=DATASET_NAME, split='all')\n",
    "    init_iter, batch_op = get_batcher(tfrecord_paths).get_batch()\n",
    "    results = get_per_image_histograms(init_iter, batch_op, band_bin_edges=BAND_BIN_EDGES)\n",
    "    print('Saving image histograms to', file_path)\n",
    "    np.savez_compressed(file_path, **results)"
   ]
  },
  {
   "cell_type": "code",
   "execution_count": 7,
   "metadata": {},
   "outputs": [
    {
     "name": "stdout",
     "output_type": "stream",
     "text": [
      "image_hists: dtype=int64, shape=(19669, 8, 102)\n",
      "labels: dtype=float32, shape=(19669,)\n",
      "locs: dtype=float32, shape=(19669, 2)\n",
      "years: dtype=int32, shape=(19669,)\n",
      "nls_center: dtype=float32, shape=(19669,)\n",
      "nls_mean: dtype=float32, shape=(19669,)\n"
     ]
    }
   ],
   "source": [
    "result = load_npz(file_path)\n",
    "image_hists = result['image_hists']\n",
    "labels = result['labels']\n",
    "locs = result['locs']\n",
    "years = result['years']\n",
    "nls_center = result['nls_center']\n",
    "nls_mean = result['nls_mean']\n",
    "\n",
    "dmsp_mask = years < 2012\n",
    "viirs_mask = ~dmsp_mask"
   ]
  },
  {
   "cell_type": "markdown",
   "metadata": {},
   "source": [
    "## Split NL band"
   ]
  },
  {
   "cell_type": "code",
   "execution_count": 8,
   "metadata": {},
   "outputs": [],
   "source": [
    "# split NL band\n",
    "image_hists = split_nl_hist(image_hists, years)"
   ]
  },
  {
   "cell_type": "markdown",
   "metadata": {},
   "source": [
    "## Plot histograms"
   ]
  },
  {
   "cell_type": "code",
   "execution_count": 9,
   "metadata": {},
   "outputs": [
    {
     "data": {
      "image/png": "[encoded data removed]",
      "text/plain": [
       "<Figure size 720x288 with 1 Axes>"
      ]
     },
     "metadata": {
      "needs_background": "light"
     },
     "output_type": "display_data"
    },
    {
     "data": {
      "image/png": "[encoded data removed]",
      "text/plain": [
       "<Figure size 360x216 with 1 Axes>"
      ]
     },
     "metadata": {
      "needs_background": "light"
     },
     "output_type": "display_data"
    }
   ],
   "source": [
    "band_hists = np.sum(image_hists, axis=0, dtype=np.int64)  # shape [C, nbins]\n",
    "plot_band_hists(\n",
    "    band_hists,\n",
    "    BAND_ORDER_NLSPLIT,\n",
    "    band_colors=BAND_COLORS,\n",
    "    bin_centers=BAND_BIN_CENTERS,\n",
    "    xlabel='normalized pixel value',\n",
    "    ylabel='count',\n",
    "    title='pixel distributions - all',\n",
    "    yscale='log')\n",
    "plot_label_hist(\n",
    "    labels=labels,\n",
    "    bin_edges=LABEL_BIN_EDGES,\n",
    "    title='label distributions - all',\n",
    "    figsize=(5, 3))"
   ]
  },
  {
   "cell_type": "markdown",
   "metadata": {},
   "source": [
    "# Load folds"
   ]
  },
  {
   "cell_type": "markdown",
   "metadata": {},
   "source": [
    "## Incountry folds + loc_dict\n",
    "\n",
    "`loc_dict` has the format:\n",
    "```python\n",
    "{\n",
    "    (lat, lon): {\n",
    "        'cluster': 1,\n",
    "        'country': 'malawi',\n",
    "        'country_year': 'malawi_2012',  # surveyID\n",
    "        'households': 25,\n",
    "        'urban': False,\n",
    "        'wealth': -0.513607621192932,\n",
    "        'wealthpooled': -0.732255101203918,\n",
    "        'year': 2012\n",
    "    }, ...\n",
    "}\n",
    "```\n",
    "\n",
    "NOTE: `year` and `country_year` might differ in the year. `country_year` is the survey ID, which says which year the survey started. However, sometimes the DHS surveys cross the year-boundary, in which case `country_year` will remain the same but `year` will be the next year."
   ]
  },
  {
   "cell_type": "code",
   "execution_count": 10,
   "metadata": {},
   "outputs": [],
   "source": [
    "with open('../data/dhs_incountry_folds.pkl', 'rb') as f:\n",
    "    incountry_folds = pickle.load(f)\n",
    "\n",
    "with open('../data/dhs_loc_dict.pkl', 'rb') as f:\n",
    "    loc_dict = pickle.load(f)\n",
    "\n",
    "incountry_group_labels = np.zeros_like(labels, dtype=np.int32)\n",
    "for i, f in enumerate(FOLDS):\n",
    "    test_indices = incountry_folds[f]['test']\n",
    "    incountry_group_labels[test_indices] = i"
   ]
  },
  {
   "cell_type": "markdown",
   "metadata": {},
   "source": [
    "## `country_indices` and `country_labels`\n",
    "\n",
    "`country_indices` is a dictionary that maps a country name to a sorted `np.array` of its indices\n",
    "```python\n",
    "{ 'malawi': np.array([ 8530,  8531,  8532, ..., 10484, 10485, 10486]), ... }\n",
    "```\n",
    "\n",
    "`country_labels` is a `np.array` that shows which country each example belongs to\n",
    "```python\n",
    "np.array([0, 0, 0, 0, ..., 22, 22, 22])\n",
    "```\n",
    "where countries are indexed by their position in `dataset_constants.DHS_COUNTRIES`"
   ]
  },
  {
   "cell_type": "code",
   "execution_count": 11,
   "metadata": {},
   "outputs": [],
   "source": [
    "country_indices = defaultdict(list)  # country => np.array of indices\n",
    "country_labels = np.zeros(len(locs), dtype=np.int32)  # np.array of country labels\n",
    "\n",
    "for i, loc in enumerate(locs):\n",
    "    country = loc_dict[tuple(loc)]['country']\n",
    "    country_indices[country].append(i)\n",
    "\n",
    "for i, country in enumerate(COUNTRIES):\n",
    "    country_indices[country] = np.asarray(country_indices[country])\n",
    "    indices = country_indices[country]\n",
    "    country_labels[indices] = i"
   ]
  },
  {
   "cell_type": "markdown",
   "metadata": {},
   "source": [
    "## OOC folds"
   ]
  },
  {
   "cell_type": "code",
   "execution_count": 12,
   "metadata": {},
   "outputs": [],
   "source": [
    "# 'A': {\n",
    "#     'train': np.array([1, 10, 13, ...]),\n",
    "#     ...\n",
    "# }\n",
    "ooc_folds = {\n",
    "    f: {split: [] for split in SPLITS}\n",
    "    for f in FOLDS\n",
    "}\n",
    "\n",
    "for f in FOLDS:\n",
    "    surveys_dict = dataset_constants.SURVEY_NAMES[f'2009-17{f}']\n",
    "    for split, countries in surveys_dict.items():\n",
    "        split_indices = np.sort(np.concatenate([\n",
    "            country_indices[country] for country in countries\n",
    "        ]))\n",
    "        ooc_folds[f][split] = split_indices"
   ]
  },
  {
   "cell_type": "markdown",
   "metadata": {},
   "source": [
    "## Urban v. Rural"
   ]
  },
  {
   "cell_type": "code",
   "execution_count": 13,
   "metadata": {},
   "outputs": [
    {
     "name": "stdout",
     "output_type": "stream",
     "text": [
      "num urban: 6801\t num rural: 12868\n"
     ]
    }
   ],
   "source": [
    "def get_urban_rural_indices(locs, loc_dict):\n",
    "    '''\n",
    "    Args\n",
    "    - locs: np.array, shape [N, 2]\n",
    "    - loc_dict: dict, (lat, lon) => dict\n",
    "\n",
    "    Returns\n",
    "    - urban_indices: np.array, shape [num_urban]\n",
    "    - rural_indices: np.array, shape [num_rural]\n",
    "    '''\n",
    "    urban_indices = []\n",
    "    rural_indices = []\n",
    "\n",
    "    for i, loc in enumerate(locs):\n",
    "        loc = tuple(loc)\n",
    "        if loc_dict[loc]['urban'] == 0:\n",
    "            rural_indices.append(i)\n",
    "        else:\n",
    "            urban_indices.append(i)\n",
    "    urban_indices = np.asarray(urban_indices)\n",
    "    rural_indices = np.asarray(rural_indices)\n",
    "    print(f'num urban: {len(urban_indices)}\\t num rural: {len(rural_indices)}')\n",
    "    return urban_indices, rural_indices\n",
    "\n",
    "urban_indices, rural_indices = get_urban_rural_indices(locs, loc_dict)"
   ]
  },
  {
   "cell_type": "markdown",
   "metadata": {},
   "source": [
    "# Dumb Baseline Models"
   ]
  },
  {
   "cell_type": "markdown",
   "metadata": {},
   "source": [
    "## Incountry: predict country mean"
   ]
  },
  {
   "cell_type": "code",
   "execution_count": 14,
   "metadata": {},
   "outputs": [
    {
     "name": "stdout",
     "output_type": "stream",
     "text": [
      "r^2: 0.163, R^2: 0.163, mse: 0.547, rank: 0.419\n"
     ]
    }
   ],
   "source": [
    "mean_preds = np.zeros_like(labels)\n",
    "for i, country in enumerate(COUNTRIES):\n",
    "    indices = np.where(country_labels == i)[0]\n",
    "    mean_preds[indices] = np.mean(labels[indices])\n",
    "r2, _, _, _ = evaluate(labels, mean_preds, do_print=True)"
   ]
  },
  {
   "cell_type": "code",
   "execution_count": 15,
   "metadata": {},
   "outputs": [
    {
     "data": {
      "image/png": "[encoded data removed]",
      "text/plain": [
       "<Figure size 360x360 with 1 Axes>"
      ]
     },
     "metadata": {
      "needs_background": "light"
     },
     "output_type": "display_data"
    }
   ],
   "source": [
    "scatter_preds(labels, preds=mean_preds, by_name='country', by_col=np.asarray(COUNTRIES)[country_labels])"
   ]
  },
  {
   "cell_type": "markdown",
   "metadata": {},
   "source": [
    "## KNN on Nightlights\n",
    "\n",
    "TODO: proper train/val/test split"
   ]
  },
  {
   "cell_type": "code",
   "execution_count": 16,
   "metadata": {},
   "outputs": [],
   "source": [
    "def knn_nl(labels, years, nls_center, train_idxs, test_idxs, k=5):\n",
    "    '''\n",
    "    Args\n",
    "    - labels: np.array, shape [N]\n",
    "    - years: np.array, shape [N]\n",
    "    - nls_center: np.array, shape [N]\n",
    "    - splits: dict, split (str) => np.array\n",
    "    - k: int, k for KNN\n",
    "    '''\n",
    "    train_nls = nls_center[train_idxs]\n",
    "\n",
    "    # test\n",
    "    test_nls = nls_center[test_idxs]\n",
    "    test_labels = labels[test_idxs]\n",
    "    preds = np.zeros_like(test_labels)\n",
    "\n",
    "    knn_dmsp = sklearn.neighbors.KNeighborsRegressor(k)\n",
    "    knn_viirs = sklearn.neighbors.KNeighborsRegressor(k)\n",
    "\n",
    "    dmsp_mask = years < 2012\n",
    "    viirs_mask = ~dmsp_mask\n",
    "\n",
    "    for mask, model in [(dmsp_mask, knn_dmsp), (viirs_mask, knn_viirs)]:\n",
    "        train_mask = mask[train_idxs]\n",
    "        test_mask = mask[test_idxs]\n",
    "\n",
    "        # assign each unique NL value the same label\n",
    "        u, indices = np.unique(train_nls[train_mask], return_inverse=True)\n",
    "        mean_labels = np.zeros_like(u)\n",
    "        for i, nl in enumerate(u):\n",
    "            mean_labels[i] = np.mean(labels[nls_center == nl])\n",
    "\n",
    "        model.fit(X=train_nls[train_mask].reshape(-1, 1), y=mean_labels[indices])\n",
    "        preds[test_mask] = model.predict(X=test_nls[test_mask].reshape(-1, 1))\n",
    "\n",
    "    return preds, knn_dmsp, knn_viirs"
   ]
  },
  {
   "cell_type": "code",
   "execution_count": 17,
   "metadata": {},
   "outputs": [],
   "source": [
    "def knn_cv_wrapper(labels, years, nls, folds, savepath=None):\n",
    "    '''\n",
    "    Args\n",
    "    - labels: np.array, shape [N]\n",
    "    - years: np.array, shape [N]\n",
    "    - nls: np.array, shape [N]\n",
    "    - folds: dict, folds[f][split] is a np.array of indices\n",
    "\n",
    "    Returns\n",
    "    - best_models: tuple of sklearn.neighbors.KNeighborsRegressor\n",
    "        best models from the last fold\n",
    "    - test_preds: np.array, shape [N]\n",
    "    - ks: np.array, shape [K]\n",
    "    - r2s: np.array, shape [K]\n",
    "    - R2s: np.array, shape [K]\n",
    "    - savepath: str, path to save npz file\n",
    "    '''\n",
    "    N = len(labels)\n",
    "    assert len(years) == N\n",
    "    assert len(nls) == N\n",
    "    if savepath is not None:\n",
    "        assert not os.path.exists(savepath)\n",
    "\n",
    "    test_preds = np.zeros_like(labels)\n",
    "    ks = np.asarray([1, 2, 5, 10, 30, 50, 100, 200, 500, 1000])\n",
    "    fold_keys = sorted(folds.keys())\n",
    "    r2s = np.zeros([len(fold_keys), len(ks)])\n",
    "    R2s = np.zeros([len(fold_keys), len(ks)])\n",
    "\n",
    "    dmsp_mask = years < 2012\n",
    "    viirs_mask = ~dmsp_mask\n",
    "\n",
    "    for i, f in enumerate(fold_keys):\n",
    "        test_idxs = folds[f]['test']\n",
    "        best_models = None\n",
    "\n",
    "        for j, k in enumerate(ks):\n",
    "            val_preds, knn_dmsp, knn_viirs = knn_nl(\n",
    "                labels, years, nls, train_idxs=folds[f]['train'],\n",
    "                test_idxs=folds[f]['val'], k=k)\n",
    "            r2 = calc_score(labels=labels[folds[f]['val']], preds=val_preds, metric='r2')\n",
    "            R2 = calc_score(labels=labels[folds[f]['val']], preds=val_preds, metric='R2')\n",
    "            if R2 > np.max(R2s[i]):\n",
    "                best_models = (knn_dmsp, knn_viirs)\n",
    "            r2s[i, j], R2s[i, j] = r2, R2\n",
    "            print(f'fold={f}, k={k:4d}, val_r2={r2:0.4f}, val_R2={R2:0.4f}')\n",
    "\n",
    "        for mask in [dmsp_mask, viirs_mask]:\n",
    "            idxs = [i for i in test_idxs if mask[i]]\n",
    "            test_preds[idxs] = best_models[0].predict(nls[idxs].reshape(-1, 1))\n",
    "\n",
    "    if savepath is not None:\n",
    "        os.makedirs(os.path.dirname(savepath), exist_ok=True)\n",
    "        np.savez_compressed(savepath, test_preds=test_preds, labels=labels)\n",
    "        \n",
    "    return best_models, test_preds, ks, r2s, R2s\n",
    "\n",
    "def plot_knn_val_performance(nl_result, labels, title):\n",
    "    '''\n",
    "    Args\n",
    "    - nl_result: tuple (models, ks, r2s, R2s), output of knn_cv_wrapper\n",
    "    - labels: np.array\n",
    "    - title: str\n",
    "    '''\n",
    "    _, test_preds, ks, r2s, R2s = nl_result\n",
    "    evaluate(labels=labels, preds=test_preds, do_print=True, title=f'{title} test')\n",
    "\n",
    "    fig, axs = plt.subplots(1, 2, sharey=True, figsize=(6, 3))\n",
    "    for i, f in enumerate(FOLDS):\n",
    "        print(f'fold {f}, chosen k:', ks[np.argmax(R2s[i])])\n",
    "        axs[0].plot(ks, r2s[i], label=f'fold={f}, $r^2$')\n",
    "        axs[1].plot(ks, R2s[i], label=f'fold={f}, $R^2$')\n",
    "    for ax in axs:\n",
    "        ax.legend()\n",
    "        ax.grid()\n",
    "        ax.set(xlabel='k', xscale='log')\n",
    "    axs[0].set(ylabel='score')\n",
    "    fig.suptitle(f'{title} validation KNN performance vs. K', y=1.02)\n",
    "    fig.tight_layout()\n",
    "    plt.show()\n",
    "\n",
    "def plot_knn_test(nls_center_result, nls_mean_result, labels,\n",
    "                  nl0_center_mask, nl0_mean_mask, title):\n",
    "    '''\n",
    "    Args\n",
    "    - *_result: tuple (models, ks, r2s, R2s), output of knn_cv_wrapper\n",
    "    - labels: np.array, shape [N]\n",
    "    - *_mask: np.array, shape [N]\n",
    "    - title: str\n",
    "    '''\n",
    "    fig, axs = plt.subplots(1, 2, sharey=True, figsize=(6, 3))\n",
    "    results = [nls_center_result, nls_mean_result]\n",
    "    nl0_masks = [nl0_center_mask, nl0_mean_mask]\n",
    "    for result, nl0_mask, ax in zip(results, nl0_masks, axs):\n",
    "        _, test_preds, ks, r2s, R2s = result\n",
    "        scatter_preds(labels, test_preds, ax=ax)\n",
    "        ax.scatter(x=labels[nl0_mask], y=test_preds[nl0_mask], c='red', s=2, label='NL = 0')\n",
    "        ax.legend()\n",
    "    axs[0].set_title(f'KNN on NL Center ({title})')\n",
    "    axs[1].set_title(f'KNN on NL Mean ({title})')\n",
    "    fig.tight_layout()\n",
    "    plt.show()"
   ]
  },
  {
   "cell_type": "code",
   "execution_count": 18,
   "metadata": {},
   "outputs": [],
   "source": [
    "def knn_wrapper_single(labels, years, nls, folds):\n",
    "    '''\n",
    "    Args\n",
    "    - labels: np.array, shape [N]\n",
    "    - years: np.array, shape [N]\n",
    "    - nls: np.array, shape [N]\n",
    "    - folds: dict, folds[f][split] is a np.array of indices\n",
    "\n",
    "    Returns\n",
    "    - best_model: sklearn.neighbors.KNeighborsRegressor\n",
    "    - best_test_preds: np.array, shape [N]\n",
    "    - ks: np.array, shape [K]\n",
    "    - r2s: np.array, shape [K]\n",
    "    - R2s: np.array, shape [K]\n",
    "    '''\n",
    "    test_preds = np.zeros_like(labels)\n",
    "    ks = np.asarray([1, 2, 5, 10, 30, 50, 100, 200, 500, 1000])\n",
    "    r2s = np.zeros(len(ks))\n",
    "    R2s = np.zeros(len(ks))\n",
    "    best_test_preds = None\n",
    "\n",
    "    for i, k in enumerate(ks):\n",
    "        for f in FOLDS:\n",
    "            train_idxs = np.concatenate([folds[f]['train'], folds[f]['val']])\n",
    "            test_idxs = folds[f]['test']\n",
    "            preds, model = knn_nl(labels, years, nls, k=k, train_idxs=train_idxs, test_idxs=test_idxs)\n",
    "            test_preds[test_idxs] = preds\n",
    "\n",
    "        print(f'k={k}, overall - ', end='')\n",
    "        r2, R2, _, _ = evaluate(labels=labels, preds=test_preds, do_print=True)\n",
    "        if r2 > np.max(r2s):\n",
    "            best_test_preds = np.array(test_preds)  # make a copy\n",
    "            best_model = model\n",
    "        r2s[i], R2s[i] = r2, R2\n",
    "\n",
    "    return best_model, best_test_preds, ks, r2s, R2s"
   ]
  },
  {
   "cell_type": "code",
   "execution_count": 19,
   "metadata": {},
   "outputs": [],
   "source": [
    "DMSP0 = -MEANS['DMSP'] / STD_DEVS['DMSP']\n",
    "VIIRS0 = -MEANS['VIIRS'] / STD_DEVS['VIIRS']\n",
    "nl0_center_mask = ((nls_center == DMSP0) & dmsp_mask) | ((nls_center == VIIRS0) & viirs_mask)\n",
    "nl0_mean_mask = ((nls_mean == DMSP0) & dmsp_mask) | ((nls_mean == VIIRS0) & viirs_mask)"
   ]
  },
  {
   "cell_type": "markdown",
   "metadata": {},
   "source": [
    "### OOC"
   ]
  },
  {
   "cell_type": "code",
   "execution_count": 20,
   "metadata": {
    "scrolled": true
   },
   "outputs": [
    {
     "name": "stdout",
     "output_type": "stream",
     "text": [
      "fold=A, k=   1, val_r2=0.4577, val_R2=0.2894\n",
      "fold=A, k=   2, val_r2=0.5453, val_R2=0.4786\n",
      "fold=A, k=   5, val_r2=0.6090, val_R2=0.5815\n",
      "fold=A, k=  10, val_r2=0.6384, val_R2=0.6208\n",
      "fold=A, k=  30, val_r2=0.6591, val_R2=0.6450\n",
      "fold=A, k=  50, val_r2=0.6656, val_R2=0.6523\n",
      "fold=A, k= 100, val_r2=0.6689, val_R2=0.6565\n",
      "fold=A, k= 200, val_r2=0.6717, val_R2=0.6601\n",
      "fold=A, k= 500, val_r2=0.6711, val_R2=0.6630\n",
      "fold=A, k=1000, val_r2=0.6674, val_R2=0.6661\n",
      "fold=B, k=   1, val_r2=0.4715, val_R2=0.4033\n",
      "fold=B, k=   2, val_r2=0.5543, val_R2=0.5310\n",
      "fold=B, k=   5, val_r2=0.6120, val_R2=0.6027\n",
      "fold=B, k=  10, val_r2=0.6334, val_R2=0.6255\n",
      "fold=B, k=  30, val_r2=0.6481, val_R2=0.6393\n",
      "fold=B, k=  50, val_r2=0.6499, val_R2=0.6413\n",
      "fold=B, k= 100, val_r2=0.6515, val_R2=0.6424\n",
      "fold=B, k= 200, val_r2=0.6521, val_R2=0.6419\n",
      "fold=B, k= 500, val_r2=0.6487, val_R2=0.6326\n",
      "fold=B, k=1000, val_r2=0.6212, val_R2=0.5752\n",
      "fold=C, k=   1, val_r2=0.5003, val_R2=0.4595\n",
      "fold=C, k=   2, val_r2=0.5618, val_R2=0.5456\n",
      "fold=C, k=   5, val_r2=0.6229, val_R2=0.6137\n",
      "fold=C, k=  10, val_r2=0.6476, val_R2=0.6379\n",
      "fold=C, k=  30, val_r2=0.6676, val_R2=0.6566\n",
      "fold=C, k=  50, val_r2=0.6696, val_R2=0.6580\n",
      "fold=C, k= 100, val_r2=0.6726, val_R2=0.6598\n",
      "fold=C, k= 200, val_r2=0.6748, val_R2=0.6585\n",
      "fold=C, k= 500, val_r2=0.6797, val_R2=0.6519\n",
      "fold=C, k=1000, val_r2=0.6748, val_R2=0.5993\n",
      "fold=D, k=   1, val_r2=0.4363, val_R2=0.2681\n",
      "fold=D, k=   2, val_r2=0.5066, val_R2=0.4306\n",
      "fold=D, k=   5, val_r2=0.5517, val_R2=0.5081\n",
      "fold=D, k=  10, val_r2=0.5706, val_R2=0.5358\n",
      "fold=D, k=  30, val_r2=0.5825, val_R2=0.5540\n",
      "fold=D, k=  50, val_r2=0.5866, val_R2=0.5594\n",
      "fold=D, k= 100, val_r2=0.5889, val_R2=0.5627\n",
      "fold=D, k= 200, val_r2=0.5896, val_R2=0.5637\n",
      "fold=D, k= 500, val_r2=0.5869, val_R2=0.5604\n",
      "fold=D, k=1000, val_r2=0.5699, val_R2=0.5237\n",
      "fold=E, k=   1, val_r2=0.5673, val_R2=0.4833\n",
      "fold=E, k=   2, val_r2=0.6436, val_R2=0.5913\n",
      "fold=E, k=   5, val_r2=0.7121, val_R2=0.6680\n",
      "fold=E, k=  10, val_r2=0.7344, val_R2=0.6894\n",
      "fold=E, k=  30, val_r2=0.7446, val_R2=0.7005\n",
      "fold=E, k=  50, val_r2=0.7465, val_R2=0.7028\n",
      "fold=E, k= 100, val_r2=0.7461, val_R2=0.7038\n",
      "fold=E, k= 200, val_r2=0.7451, val_R2=0.7044\n",
      "fold=E, k= 500, val_r2=0.7420, val_R2=0.7056\n",
      "fold=E, k=1000, val_r2=0.7396, val_R2=0.7103\n",
      "fold=A, k=   1, val_r2=0.4509, val_R2=0.2884\n",
      "fold=A, k=   2, val_r2=0.5376, val_R2=0.4729\n",
      "fold=A, k=   5, val_r2=0.6150, val_R2=0.5917\n",
      "fold=A, k=  10, val_r2=0.6446, val_R2=0.6313\n",
      "fold=A, k=  30, val_r2=0.6718, val_R2=0.6622\n",
      "fold=A, k=  50, val_r2=0.6776, val_R2=0.6687\n",
      "fold=A, k= 100, val_r2=0.6821, val_R2=0.6733\n",
      "fold=A, k= 200, val_r2=0.6844, val_R2=0.6766\n",
      "fold=A, k= 500, val_r2=0.6855, val_R2=0.6815\n",
      "fold=A, k=1000, val_r2=0.6751, val_R2=0.6740\n",
      "fold=B, k=   1, val_r2=0.4445, val_R2=0.3647\n",
      "fold=B, k=   2, val_r2=0.5214, val_R2=0.4977\n",
      "fold=B, k=   5, val_r2=0.5874, val_R2=0.5781\n",
      "fold=B, k=  10, val_r2=0.6151, val_R2=0.6077\n",
      "fold=B, k=  30, val_r2=0.6374, val_R2=0.6291\n",
      "fold=B, k=  50, val_r2=0.6406, val_R2=0.6324\n",
      "fold=B, k= 100, val_r2=0.6416, val_R2=0.6327\n",
      "fold=B, k= 200, val_r2=0.6429, val_R2=0.6326\n",
      "fold=B, k= 500, val_r2=0.6406, val_R2=0.6229\n",
      "fold=B, k=1000, val_r2=0.6166, val_R2=0.5695\n",
      "fold=C, k=   1, val_r2=0.4844, val_R2=0.4254\n",
      "fold=C, k=   2, val_r2=0.5633, val_R2=0.5412\n",
      "fold=C, k=   5, val_r2=0.6214, val_R2=0.6098\n",
      "fold=C, k=  10, val_r2=0.6441, val_R2=0.6328\n",
      "fold=C, k=  30, val_r2=0.6626, val_R2=0.6502\n",
      "fold=C, k=  50, val_r2=0.6643, val_R2=0.6516\n",
      "fold=C, k= 100, val_r2=0.6687, val_R2=0.6545\n",
      "fold=C, k= 200, val_r2=0.6726, val_R2=0.6550\n",
      "fold=C, k= 500, val_r2=0.6792, val_R2=0.6490\n",
      "fold=C, k=1000, val_r2=0.6781, val_R2=0.6032\n",
      "fold=D, k=   1, val_r2=0.4256, val_R2=0.2174\n",
      "fold=D, k=   2, val_r2=0.5039, val_R2=0.4093\n",
      "fold=D, k=   5, val_r2=0.5677, val_R2=0.5191\n",
      "fold=D, k=  10, val_r2=0.5862, val_R2=0.5487\n",
      "fold=D, k=  30, val_r2=0.6073, val_R2=0.5798\n",
      "fold=D, k=  50, val_r2=0.6081, val_R2=0.5828\n",
      "fold=D, k= 100, val_r2=0.6081, val_R2=0.5847\n",
      "fold=D, k= 200, val_r2=0.6028, val_R2=0.5830\n",
      "fold=D, k= 500, val_r2=0.5960, val_R2=0.5746\n",
      "fold=D, k=1000, val_r2=0.5791, val_R2=0.5406\n",
      "fold=E, k=   1, val_r2=0.5589, val_R2=0.4704\n",
      "fold=E, k=   2, val_r2=0.6433, val_R2=0.5882\n",
      "fold=E, k=   5, val_r2=0.6943, val_R2=0.6447\n",
      "fold=E, k=  10, val_r2=0.7183, val_R2=0.6713\n",
      "fold=E, k=  30, val_r2=0.7364, val_R2=0.6885\n",
      "fold=E, k=  50, val_r2=0.7388, val_R2=0.6914\n",
      "fold=E, k= 100, val_r2=0.7390, val_R2=0.6931\n",
      "fold=E, k= 200, val_r2=0.7397, val_R2=0.6956\n",
      "fold=E, k= 500, val_r2=0.7389, val_R2=0.7011\n",
      "fold=E, k=1000, val_r2=0.7381, val_R2=0.7090\n"
     ]
    }
   ],
   "source": [
    "nls_center_result = knn_cv_wrapper(\n",
    "    labels=labels, years=years, nls=nls_center, folds=ooc_folds,\n",
    "    savepath=os.path.join(LOGS_ROOT_DIR, 'dhs_knn', 'nls_center', 'test_preds.npz'))\n",
    "\n",
    "nls_mean_result = knn_cv_wrapper(\n",
    "    labels=labels, years=years, nls=nls_mean, folds=ooc_folds,\n",
    "    savepath=os.path.join(LOGS_ROOT_DIR, 'dhs_knn', 'nls_mean', 'test_preds.npz'))"
   ]
  },
  {
   "cell_type": "code",
   "execution_count": 21,
   "metadata": {},
   "outputs": [
    {
     "name": "stdout",
     "output_type": "stream",
     "text": [
      "NL center test\t- r^2: 0.541, R^2: 0.440, mse: 0.365, rank: 0.583\n",
      "fold A, chosen k: 1000\n",
      "fold B, chosen k: 100\n",
      "fold C, chosen k: 100\n",
      "fold D, chosen k: 200\n",
      "fold E, chosen k: 1000\n"
     ]
    },
    {
     "data": {
      "image/png": "[encoded data removed]",
      "text/plain": [
       "<Figure size 432x216 with 2 Axes>"
      ]
     },
     "metadata": {
      "needs_background": "light"
     },
     "output_type": "display_data"
    },
    {
     "name": "stdout",
     "output_type": "stream",
     "text": [
      "NL mean test\t- r^2: 0.557, R^2: 0.450, mse: 0.359, rank: 0.623\n",
      "fold A, chosen k: 500\n",
      "fold B, chosen k: 100\n",
      "fold C, chosen k: 200\n",
      "fold D, chosen k: 100\n",
      "fold E, chosen k: 1000\n"
     ]
    },
    {
     "data": {
      "image/png": "[encoded data removed]",
      "text/plain": [
       "<Figure size 432x216 with 2 Axes>"
      ]
     },
     "metadata": {
      "needs_background": "light"
     },
     "output_type": "display_data"
    }
   ],
   "source": [
    "plot_knn_val_performance(nls_center_result, labels, title='NL center')\n",
    "plot_knn_val_performance(nls_mean_result, labels, title='NL mean')"
   ]
  },
  {
   "cell_type": "code",
   "execution_count": 22,
   "metadata": {},
   "outputs": [
    {
     "data": {
      "image/png": "[encoded data removed]",
      "text/plain": [
       "<Figure size 432x216 with 2 Axes>"
      ]
     },
     "metadata": {
      "needs_background": "light"
     },
     "output_type": "display_data"
    }
   ],
   "source": [
    "plot_knn_test(nls_center_result, nls_mean_result, labels,\n",
    "              nl0_center_mask, nl0_mean_mask, title='OOC')"
   ]
  },
  {
   "cell_type": "code",
   "execution_count": 23,
   "metadata": {},
   "outputs": [
    {
     "data": {
      "image/png": "[encoded data removed]",
      "text/plain": [
       "<Figure size 720x216 with 2 Axes>"
      ]
     },
     "metadata": {
      "needs_background": "light"
     },
     "output_type": "display_data"
    }
   ],
   "source": [
    "fig, axs = plt.subplots(1, 2, figsize=(10, 3), sharey=True)\n",
    "for result, title in [(nls_center_result, 'NL center'),\n",
    "                      (nls_mean_result, 'NL mean')]:\n",
    "    models = result[0]\n",
    "    masks = [dmsp_mask, viirs_mask]\n",
    "    for i in range(2):\n",
    "        ax, mask, model = axs[i], masks[i], models[i]\n",
    "        nls = np.arange(-0.5, 8, 0.05)\n",
    "        preds = model.predict(nls.reshape(-1, 1))\n",
    "        ax.plot(nls, preds, linewidth=2, label=title)\n",
    "\n",
    "axs[0].set(xlabel='DMSP', ylabel='KNN pred')\n",
    "axs[1].set(xlabel='VIIRS', ylabel='KNN pred')\n",
    "\n",
    "for ax in axs:\n",
    "    ax.grid(True)\n",
    "    ax.legend()\n",
    "fig.suptitle('Fold E OOC', y=1.02)\n",
    "fig.tight_layout()\n",
    "plt.show()"
   ]
  },
  {
   "cell_type": "markdown",
   "metadata": {},
   "source": [
    "### Incountry"
   ]
  },
  {
   "cell_type": "code",
   "execution_count": 24,
   "metadata": {},
   "outputs": [
    {
     "name": "stdout",
     "output_type": "stream",
     "text": [
      "fold=A, k=   1, val_r2=0.4895, val_R2=0.4178\n",
      "fold=A, k=   2, val_r2=0.5685, val_R2=0.5424\n",
      "fold=A, k=   5, val_r2=0.6210, val_R2=0.6097\n",
      "fold=A, k=  10, val_r2=0.6377, val_R2=0.6295\n",
      "fold=A, k=  30, val_r2=0.6510, val_R2=0.6465\n",
      "fold=A, k=  50, val_r2=0.6546, val_R2=0.6506\n",
      "fold=A, k= 100, val_r2=0.6556, val_R2=0.6521\n",
      "fold=A, k= 200, val_r2=0.6560, val_R2=0.6532\n",
      "fold=A, k= 500, val_r2=0.6548, val_R2=0.6535\n",
      "fold=A, k=1000, val_r2=0.6496, val_R2=0.6427\n",
      "fold=B, k=   1, val_r2=0.5016, val_R2=0.4268\n",
      "fold=B, k=   2, val_r2=0.5788, val_R2=0.5556\n",
      "fold=B, k=   5, val_r2=0.6404, val_R2=0.6330\n",
      "fold=B, k=  10, val_r2=0.6598, val_R2=0.6545\n",
      "fold=B, k=  30, val_r2=0.6729, val_R2=0.6679\n",
      "fold=B, k=  50, val_r2=0.6748, val_R2=0.6700\n",
      "fold=B, k= 100, val_r2=0.6754, val_R2=0.6701\n",
      "fold=B, k= 200, val_r2=0.6751, val_R2=0.6691\n",
      "fold=B, k= 500, val_r2=0.6757, val_R2=0.6661\n",
      "fold=B, k=1000, val_r2=0.6576, val_R2=0.6238\n",
      "fold=C, k=   1, val_r2=0.4655, val_R2=0.3755\n",
      "fold=C, k=   2, val_r2=0.5443, val_R2=0.5162\n",
      "fold=C, k=   5, val_r2=0.6075, val_R2=0.6021\n",
      "fold=C, k=  10, val_r2=0.6281, val_R2=0.6259\n",
      "fold=C, k=  30, val_r2=0.6443, val_R2=0.6436\n",
      "fold=C, k=  50, val_r2=0.6480, val_R2=0.6476\n",
      "fold=C, k= 100, val_r2=0.6513, val_R2=0.6511\n",
      "fold=C, k= 200, val_r2=0.6525, val_R2=0.6525\n",
      "fold=C, k= 500, val_r2=0.6505, val_R2=0.6495\n",
      "fold=C, k=1000, val_r2=0.6333, val_R2=0.6212\n",
      "fold=D, k=   1, val_r2=0.5058, val_R2=0.4167\n",
      "fold=D, k=   2, val_r2=0.5799, val_R2=0.5548\n",
      "fold=D, k=   5, val_r2=0.6467, val_R2=0.6415\n",
      "fold=D, k=  10, val_r2=0.6676, val_R2=0.6663\n",
      "fold=D, k=  30, val_r2=0.6835, val_R2=0.6834\n",
      "fold=D, k=  50, val_r2=0.6902, val_R2=0.6901\n",
      "fold=D, k= 100, val_r2=0.6930, val_R2=0.6929\n",
      "fold=D, k= 200, val_r2=0.6943, val_R2=0.6942\n",
      "fold=D, k= 500, val_r2=0.6961, val_R2=0.6947\n",
      "fold=D, k=1000, val_r2=0.6951, val_R2=0.6829\n",
      "fold=E, k=   1, val_r2=0.4383, val_R2=0.3712\n",
      "fold=E, k=   2, val_r2=0.5123, val_R2=0.4937\n",
      "fold=E, k=   5, val_r2=0.5811, val_R2=0.5794\n",
      "fold=E, k=  10, val_r2=0.6044, val_R2=0.6044\n",
      "fold=E, k=  30, val_r2=0.6238, val_R2=0.6235\n",
      "fold=E, k=  50, val_r2=0.6272, val_R2=0.6269\n",
      "fold=E, k= 100, val_r2=0.6320, val_R2=0.6314\n",
      "fold=E, k= 200, val_r2=0.6342, val_R2=0.6334\n",
      "fold=E, k= 500, val_r2=0.6338, val_R2=0.6312\n",
      "fold=E, k=1000, val_r2=0.6271, val_R2=0.6116\n",
      "fold=A, k=   1, val_r2=0.4797, val_R2=0.3896\n",
      "fold=A, k=   2, val_r2=0.5528, val_R2=0.5229\n",
      "fold=A, k=   5, val_r2=0.6079, val_R2=0.5985\n",
      "fold=A, k=  10, val_r2=0.6250, val_R2=0.6201\n",
      "fold=A, k=  30, val_r2=0.6451, val_R2=0.6417\n",
      "fold=A, k=  50, val_r2=0.6475, val_R2=0.6442\n",
      "fold=A, k= 100, val_r2=0.6469, val_R2=0.6443\n",
      "fold=A, k= 200, val_r2=0.6486, val_R2=0.6468\n",
      "fold=A, k= 500, val_r2=0.6515, val_R2=0.6510\n",
      "fold=A, k=1000, val_r2=0.6454, val_R2=0.6380\n",
      "fold=B, k=   1, val_r2=0.4865, val_R2=0.3876\n",
      "fold=B, k=   2, val_r2=0.5685, val_R2=0.5363\n",
      "fold=B, k=   5, val_r2=0.6346, val_R2=0.6253\n",
      "fold=B, k=  10, val_r2=0.6560, val_R2=0.6509\n",
      "fold=B, k=  30, val_r2=0.6733, val_R2=0.6689\n",
      "fold=B, k=  50, val_r2=0.6786, val_R2=0.6741\n",
      "fold=B, k= 100, val_r2=0.6834, val_R2=0.6785\n",
      "fold=B, k= 200, val_r2=0.6863, val_R2=0.6804\n",
      "fold=B, k= 500, val_r2=0.6848, val_R2=0.6739\n",
      "fold=B, k=1000, val_r2=0.6675, val_R2=0.6317\n",
      "fold=C, k=   1, val_r2=0.4590, val_R2=0.3503\n",
      "fold=C, k=   2, val_r2=0.5495, val_R2=0.5174\n",
      "fold=C, k=   5, val_r2=0.6082, val_R2=0.6003\n",
      "fold=C, k=  10, val_r2=0.6288, val_R2=0.6257\n",
      "fold=C, k=  30, val_r2=0.6455, val_R2=0.6445\n",
      "fold=C, k=  50, val_r2=0.6489, val_R2=0.6482\n",
      "fold=C, k= 100, val_r2=0.6519, val_R2=0.6516\n",
      "fold=C, k= 200, val_r2=0.6524, val_R2=0.6522\n",
      "fold=C, k= 500, val_r2=0.6516, val_R2=0.6505\n",
      "fold=C, k=1000, val_r2=0.6380, val_R2=0.6263\n",
      "fold=D, k=   1, val_r2=0.4669, val_R2=0.3590\n",
      "fold=D, k=   2, val_r2=0.5613, val_R2=0.5311\n",
      "fold=D, k=   5, val_r2=0.6360, val_R2=0.6303\n",
      "fold=D, k=  10, val_r2=0.6611, val_R2=0.6592\n",
      "fold=D, k=  30, val_r2=0.6873, val_R2=0.6871\n",
      "fold=D, k=  50, val_r2=0.6908, val_R2=0.6906\n",
      "fold=D, k= 100, val_r2=0.6943, val_R2=0.6942\n",
      "fold=D, k= 200, val_r2=0.6956, val_R2=0.6955\n",
      "fold=D, k= 500, val_r2=0.6972, val_R2=0.6961\n",
      "fold=D, k=1000, val_r2=0.6955, val_R2=0.6841\n",
      "fold=E, k=   1, val_r2=0.4291, val_R2=0.3507\n",
      "fold=E, k=   2, val_r2=0.5238, val_R2=0.5064\n",
      "fold=E, k=   5, val_r2=0.5845, val_R2=0.5815\n",
      "fold=E, k=  10, val_r2=0.6128, val_R2=0.6124\n",
      "fold=E, k=  30, val_r2=0.6304, val_R2=0.6303\n",
      "fold=E, k=  50, val_r2=0.6323, val_R2=0.6322\n",
      "fold=E, k= 100, val_r2=0.6361, val_R2=0.6357\n",
      "fold=E, k= 200, val_r2=0.6380, val_R2=0.6374\n",
      "fold=E, k= 500, val_r2=0.6397, val_R2=0.6370\n",
      "fold=E, k=1000, val_r2=0.6310, val_R2=0.6159\n"
     ]
    }
   ],
   "source": [
    "nls_center_result = knn_cv_wrapper(\n",
    "    labels=labels, years=years, nls=nls_center, folds=incountry_folds,\n",
    "    savepath=os.path.join(LOGS_ROOT_DIR, 'dhs_knn', 'incountry_nls_center', 'test_preds.npz'))\n",
    "\n",
    "nls_mean_result = knn_cv_wrapper(\n",
    "    labels=labels, years=years, nls=nls_mean, folds=incountry_folds,\n",
    "    savepath=os.path.join(LOGS_ROOT_DIR, 'dhs_knn', 'incountry_nls_mean', 'test_preds.npz'))"
   ]
  },
  {
   "cell_type": "code",
   "execution_count": 25,
   "metadata": {},
   "outputs": [
    {
     "data": {
      "image/png": "[encoded data removed]",
      "text/plain": [
       "<Figure size 432x216 with 2 Axes>"
      ]
     },
     "metadata": {
      "needs_background": "light"
     },
     "output_type": "display_data"
    }
   ],
   "source": [
    "plot_knn_test(nls_center_result, nls_mean_result, labels,\n",
    "              nl0_center_mask, nl0_mean_mask, title='Incountry')"
   ]
  },
  {
   "cell_type": "code",
   "execution_count": 26,
   "metadata": {},
   "outputs": [
    {
     "data": {
      "image/png": "[encoded data removed]",
      "text/plain": [
       "<Figure size 720x216 with 2 Axes>"
      ]
     },
     "metadata": {
      "needs_background": "light"
     },
     "output_type": "display_data"
    }
   ],
   "source": [
    "fig, axs = plt.subplots(1, 2, figsize=(10, 3), sharey=True)\n",
    "for result, title in [(nls_center_result, 'NL center'),\n",
    "                      (nls_mean_result, 'NL mean')]:\n",
    "    models = result[0]\n",
    "    masks = [dmsp_mask, viirs_mask]\n",
    "    for i in range(2):\n",
    "        ax, mask, model = axs[i], masks[i], models[i]\n",
    "        nls = np.arange(-0.5, 8, 0.05)\n",
    "        preds = model.predict(nls.reshape(-1, 1))\n",
    "        ax.plot(nls, preds, linewidth=2, label=title)\n",
    "\n",
    "axs[0].set(xlabel='DMSP', ylabel='KNN pred')\n",
    "axs[1].set(xlabel='VIIRS', ylabel='KNN pred')\n",
    "\n",
    "for ax in axs:\n",
    "    ax.grid(True)\n",
    "    ax.legend()\n",
    "fig.suptitle('Fold E Incountry', y=1.02)\n",
    "fig.tight_layout()\n",
    "plt.show()"
   ]
  },
  {
   "cell_type": "markdown",
   "metadata": {},
   "source": [
    "## TODO: KNN on Histograms"
   ]
  },
  {
   "cell_type": "markdown",
   "metadata": {},
   "source": [
    "# Ridge Regression on Histograms\n",
    "\n",
    "- set \"missing\" DMSP and VIIRS values to the mean\n",
    "- not sure if this is the most \"correct\" thing to do, but it's somewhat reasonable approximation"
   ]
  },
  {
   "cell_type": "code",
   "execution_count": 16,
   "metadata": {},
   "outputs": [
    {
     "name": "stdout",
     "output_type": "stream",
     "text": [
      "(19669, 9, 102)\n"
     ]
    }
   ],
   "source": [
    "# standardize to 0 mean and unit variance\n",
    "num_examples = len(image_hists)\n",
    "image_hists_mean = np.mean(image_hists, axis=0, dtype=np.float64)\n",
    "image_hists_std = np.std(image_hists, axis=0, dtype=np.float64)\n",
    "\n",
    "image_hists_mean[7] = np.mean(image_hists[dmsp_mask, 7], axis=0, dtype=np.float64)\n",
    "image_hists_mean[8] = np.mean(image_hists[viirs_mask, 8], axis=0, dtype=np.float64)\n",
    "\n",
    "image_hists_std[7] = np.std(image_hists[dmsp_mask, 7], axis=0, dtype=np.float64)\n",
    "image_hists_std[8] = np.std(image_hists[viirs_mask, 8], axis=0, dtype=np.float64)\n",
    "\n",
    "normalized_image_hists = np.zeros(image_hists.shape, dtype=np.float64)\n",
    "for mask in [dmsp_mask, viirs_mask]:\n",
    "    normalized_image_hists[mask] = (image_hists[mask] - image_hists_mean) / (image_hists_std + 1e-6)\n",
    "\n",
    "print(normalized_image_hists.shape)"
   ]
  },
  {
   "cell_type": "code",
   "execution_count": 17,
   "metadata": {},
   "outputs": [],
   "source": [
    "def split_nls(nls, years):\n",
    "    '''\n",
    "    Args\n",
    "    - nls: np.array, shape [N]\n",
    "    - years: np.array, shape [N]\n",
    "\n",
    "    Returns\n",
    "    - nls_split: np.array, shape [N, 2]\n",
    "    '''\n",
    "    N = len(nls)\n",
    "    dmsp_mask = years < 2012\n",
    "    viirs_mask = ~dmsp_mask\n",
    "    nls_split = np.zeros([N, 2], dtype=np.float32)\n",
    "    nls_split[dmsp_mask, 0] = nls[dmsp_mask]\n",
    "    nls_split[viirs_mask, 1] = nls[viirs_mask]\n",
    "    return nls_split"
   ]
  },
  {
   "cell_type": "code",
   "execution_count": 18,
   "metadata": {},
   "outputs": [],
   "source": [
    "normalized_nls_center = split_nls(nls_center, years)\n",
    "for i, mask in enumerate([dmsp_mask, viirs_mask]):\n",
    "    normalized_nls_center[mask, i] -= np.mean(normalized_nls_center[mask, i])\n",
    "    normalized_nls_center[mask, i] -= np.std(normalized_nls_center[mask, i])\n",
    "\n",
    "normalized_nls_mean = split_nls(nls_mean, years)\n",
    "for i, mask in enumerate([dmsp_mask, viirs_mask]):\n",
    "    normalized_nls_mean[mask, i] -= np.mean(normalized_nls_mean[mask, i])\n",
    "    normalized_nls_mean[mask, i] -= np.std(normalized_nls_mean[mask, i])"
   ]
  },
  {
   "cell_type": "markdown",
   "metadata": {},
   "source": [
    "## OOC"
   ]
  },
  {
   "cell_type": "code",
   "execution_count": 19,
   "metadata": {},
   "outputs": [],
   "source": [
    "def run_ridge_ooc_wrapper(img_hists, model_name):\n",
    "    print(model_name)\n",
    "    ridge_cv(\n",
    "        features=img_hists.reshape(num_examples, -1),\n",
    "        labels=labels, group_labels=country_labels, group_names=COUNTRIES,\n",
    "        savedir=os.path.join(LOGS_ROOT_DIR, 'dhs_ridge', model_name))\n",
    "    print(f'== {model_name} urban ==')\n",
    "    ridge_cv(\n",
    "        features=img_hists.reshape(num_examples, -1),\n",
    "        labels=labels, group_labels=country_labels, group_names=COUNTRIES,\n",
    "        savedir=os.path.join(LOGS_ROOT_DIR, 'dhs_ridge', model_name),\n",
    "        subset_indices=urban_indices, subset_name='urban')\n",
    "    print(f'== {model_name} rural ==')\n",
    "    ridge_cv(\n",
    "        features=img_hists.reshape(num_examples, -1),\n",
    "        labels=labels, group_labels=country_labels, group_names=COUNTRIES,\n",
    "        savedir=os.path.join(LOGS_ROOT_DIR, 'dhs_ridge', model_name),\n",
    "        subset_indices=rural_indices, subset_name='rural')"
   ]
  },
  {
   "cell_type": "code",
   "execution_count": 20,
   "metadata": {},
   "outputs": [
    {
     "name": "stdout",
     "output_type": "stream",
     "text": [
      "nlcenter_scalar\n",
      "Group: angola\n",
      "best val mse: 0.428, best alpha: 128.0, test mse: 2.242\n",
      "Group: benin\n",
      "best val mse: 0.505, best alpha: 8192.0, test mse: 0.384\n",
      "Group: burkina_faso\n",
      "best val mse: 0.510, best alpha: 8192.0, test mse: 0.285\n",
      "Group: cameroon\n",
      "best val mse: 0.498, best alpha: 8192.0, test mse: 0.581\n",
      "Group: cote_d_ivoire\n",
      "best val mse: 0.502, best alpha: 8192.0, test mse: 0.397\n",
      "Group: democratic_republic_of_congo\n",
      "best val mse: 0.498, best alpha: 8192.0, test mse: 0.615\n",
      "Group: ethiopia\n",
      "best val mse: 0.491, best alpha: 8192.0, test mse: 0.673\n",
      "Group: ghana\n",
      "best val mse: 0.491, best alpha: 8192.0, test mse: 0.781\n",
      "Group: guinea\n",
      "best val mse: 0.499, best alpha: 8192.0, test mse: 0.585\n",
      "Group: kenya\n",
      "best val mse: 0.513, best alpha: 8192.0, test mse: 0.391\n",
      "Group: lesotho\n",
      "best val mse: 0.506, best alpha: 8192.0, test mse: 0.368\n",
      "Group: malawi\n",
      "best val mse: 0.522, best alpha: 8192.0, test mse: 0.320\n",
      "Group: mali\n",
      "best val mse: 0.506, best alpha: 8192.0, test mse: 0.345\n",
      "Group: mozambique\n",
      "best val mse: 0.507, best alpha: 8192.0, test mse: 0.395\n",
      "Group: nigeria\n",
      "best val mse: 0.474, best alpha: 8192.0, test mse: 0.799\n",
      "Group: rwanda\n",
      "best val mse: 0.510, best alpha: 8192.0, test mse: 0.336\n",
      "Group: senegal\n",
      "best val mse: 0.499, best alpha: 8192.0, test mse: 0.547\n",
      "Group: sierra_leone\n",
      "best val mse: 0.502, best alpha: 8192.0, test mse: 0.414\n",
      "Group: tanzania\n",
      "best val mse: 0.515, best alpha: 8192.0, test mse: 0.364\n",
      "Group: togo\n",
      "best val mse: 0.502, best alpha: 8192.0, test mse: 0.376\n",
      "Group: uganda\n",
      "best val mse: 0.509, best alpha: 8192.0, test mse: 0.321\n",
      "Group: zambia\n",
      "best val mse: 0.501, best alpha: 8192.0, test mse: 0.490\n",
      "Group: zimbabwe\n",
      "best val mse: 0.481, best alpha: 8192.0, test mse: 0.957\n",
      "saving test preds to: ../logs/dhs_ridge/nlcenter_scalar/test_preds.npz\n",
      "== nlcenter_scalar urban ==\n",
      "Group: angola\n",
      "best val mse: 0.377, best alpha: 128.0, test mse: 0.980\n",
      "Group: benin\n",
      "best val mse: 0.408, best alpha: 8192.0, test mse: 0.388\n",
      "Group: burkina_faso\n",
      "best val mse: 0.409, best alpha: 8192.0, test mse: 0.312\n",
      "Group: cameroon\n",
      "best val mse: 0.414, best alpha: 8192.0, test mse: 0.240\n",
      "Group: cote_d_ivoire\n",
      "best val mse: 0.411, best alpha: 8192.0, test mse: 0.180\n",
      "Group: democratic_republic_of_congo\n",
      "best val mse: 0.395, best alpha: 8192.0, test mse: 0.915\n",
      "Group: ethiopia\n",
      "best val mse: 0.418, best alpha: 8192.0, test mse: 0.216\n",
      "Group: ghana\n",
      "best val mse: 0.410, best alpha: 8192.0, test mse: 0.331\n",
      "Group: guinea\n",
      "best val mse: 0.407, best alpha: 8192.0, test mse: 0.329\n",
      "Group: kenya\n",
      "best val mse: 0.409, best alpha: 8192.0, test mse: 0.400\n",
      "Group: lesotho\n",
      "best val mse: 0.410, best alpha: 8192.0, test mse: 0.263\n",
      "Group: malawi\n",
      "best val mse: 0.404, best alpha: 8192.0, test mse: 0.438\n",
      "Group: mali\n",
      "best val mse: 0.409, best alpha: 8192.0, test mse: 0.266\n",
      "Group: mozambique\n",
      "best val mse: 0.393, best alpha: 8192.0, test mse: 0.629\n",
      "Group: nigeria\n",
      "best val mse: 0.400, best alpha: 8192.0, test mse: 0.450\n",
      "Group: rwanda\n",
      "best val mse: 0.404, best alpha: 8192.0, test mse: 0.470\n",
      "Group: senegal\n",
      "best val mse: 0.412, best alpha: 8192.0, test mse: 0.233\n",
      "Group: sierra_leone\n",
      "best val mse: 0.406, best alpha: 8192.0, test mse: 0.412\n",
      "Group: tanzania\n",
      "best val mse: 0.411, best alpha: 8192.0, test mse: 0.345\n",
      "Group: togo\n",
      "best val mse: 0.411, best alpha: 8192.0, test mse: 0.144\n",
      "Group: uganda\n",
      "best val mse: 0.406, best alpha: 8192.0, test mse: 0.393\n",
      "Group: zambia\n",
      "best val mse: 0.401, best alpha: 8192.0, test mse: 0.529\n",
      "Group: zimbabwe\n",
      "best val mse: 0.389, best alpha: 8192.0, test mse: 0.676\n",
      "saving test preds to: ../logs/dhs_ridge/nlcenter_scalar/test_preds_urban.npz\n",
      "== nlcenter_scalar rural ==\n",
      "Group: angola\n",
      "best val mse: 0.213, best alpha: 128.0, test mse: 0.312\n",
      "Group: benin\n",
      "best val mse: 0.219, best alpha: 128.0, test mse: 0.159\n",
      "Group: burkina_faso\n",
      "best val mse: 0.223, best alpha: 128.0, test mse: 0.076\n",
      "Group: cameroon\n",
      "best val mse: 0.216, best alpha: 128.0, test mse: 0.250\n",
      "Group: cote_d_ivoire\n",
      "best val mse: 0.216, best alpha: 128.0, test mse: 0.265\n",
      "Group: democratic_republic_of_congo\n",
      "best val mse: 0.213, best alpha: 128.0, test mse: 0.352\n",
      "Group: ethiopia\n",
      "best val mse: 0.210, best alpha: 128.0, test mse: 0.308\n",
      "Group: ghana\n",
      "best val mse: 0.206, best alpha: 128.0, test mse: 0.658\n",
      "Group: guinea\n",
      "best val mse: 0.218, best alpha: 128.0, test mse: 0.132\n",
      "Group: kenya\n",
      "best val mse: 0.219, best alpha: 128.0, test mse: 0.195\n",
      "Group: lesotho\n",
      "best val mse: 0.217, best alpha: 128.0, test mse: 0.216\n",
      "Group: malawi\n",
      "best val mse: 0.235, best alpha: 128.0, test mse: 0.083\n",
      "Group: mali\n",
      "best val mse: 0.218, best alpha: 128.0, test mse: 0.181\n",
      "Group: mozambique\n",
      "best val mse: 0.221, best alpha: 128.0, test mse: 0.104\n",
      "Group: nigeria\n",
      "best val mse: 0.180, best alpha: 2.0, test mse: 0.727\n",
      "Group: rwanda\n",
      "best val mse: 0.225, best alpha: 128.0, test mse: 0.090\n",
      "Group: senegal\n",
      "best val mse: 0.211, best alpha: 128.0, test mse: 0.407\n",
      "Group: sierra_leone\n",
      "best val mse: 0.218, best alpha: 128.0, test mse: 0.137\n",
      "Group: tanzania\n",
      "best val mse: 0.225, best alpha: 128.0, test mse: 0.150\n",
      "Group: togo\n",
      "best val mse: 0.218, best alpha: 128.0, test mse: 0.134\n",
      "Group: uganda\n",
      "best val mse: 0.223, best alpha: 128.0, test mse: 0.095\n",
      "Group: zambia\n",
      "best val mse: 0.219, best alpha: 128.0, test mse: 0.160\n",
      "Group: zimbabwe\n",
      "best val mse: 0.216, best alpha: 128.0, test mse: 0.232\n",
      "saving test preds to: ../logs/dhs_ridge/nlcenter_scalar/test_preds_rural.npz\n"
     ]
    }
   ],
   "source": [
    "model_name = 'nlcenter_scalar'\n",
    "run_ridge_ooc_wrapper(model_name=model_name, img_hists=normalized_nls_center)"
   ]
  },
  {
   "cell_type": "code",
   "execution_count": 33,
   "metadata": {
    "scrolled": true
   },
   "outputs": [
    {
     "name": "stdout",
     "output_type": "stream",
     "text": [
      "nlmean_scalar\n",
      "best val mse: 0.429, best alpha: 128.0, test mse: 2.223\n",
      "best val mse: 0.516, best alpha: 8192.0, test mse: 0.385\n",
      "best val mse: 0.521, best alpha: 8192.0, test mse: 0.291\n",
      "best val mse: 0.508, best alpha: 8192.0, test mse: 0.593\n",
      "best val mse: 0.512, best alpha: 8192.0, test mse: 0.429\n",
      "best val mse: 0.508, best alpha: 8192.0, test mse: 0.651\n",
      "best val mse: 0.502, best alpha: 8192.0, test mse: 0.697\n",
      "best val mse: 0.502, best alpha: 8192.0, test mse: 0.798\n",
      "best val mse: 0.509, best alpha: 8192.0, test mse: 0.614\n",
      "best val mse: 0.524, best alpha: 8192.0, test mse: 0.402\n",
      "best val mse: 0.516, best alpha: 8192.0, test mse: 0.377\n",
      "best val mse: 0.532, best alpha: 8192.0, test mse: 0.337\n",
      "best val mse: 0.516, best alpha: 8192.0, test mse: 0.364\n",
      "best val mse: 0.517, best alpha: 8192.0, test mse: 0.417\n",
      "best val mse: 0.487, best alpha: 8192.0, test mse: 0.795\n",
      "best val mse: 0.521, best alpha: 8192.0, test mse: 0.342\n",
      "best val mse: 0.508, best alpha: 8192.0, test mse: 0.578\n",
      "best val mse: 0.512, best alpha: 8192.0, test mse: 0.432\n",
      "best val mse: 0.526, best alpha: 8192.0, test mse: 0.373\n",
      "best val mse: 0.513, best alpha: 8192.0, test mse: 0.384\n",
      "best val mse: 0.519, best alpha: 8192.0, test mse: 0.326\n",
      "best val mse: 0.511, best alpha: 8192.0, test mse: 0.535\n",
      "best val mse: 0.491, best alpha: 8192.0, test mse: 0.972\n",
      "== nlmean_scalar urban ==\n",
      "best val mse: 0.374, best alpha: 16.0, test mse: 1.055\n",
      "best val mse: 0.415, best alpha: 8192.0, test mse: 0.394\n",
      "best val mse: 0.416, best alpha: 1024.0, test mse: 0.286\n",
      "best val mse: 0.420, best alpha: 8192.0, test mse: 0.241\n",
      "best val mse: 0.418, best alpha: 8192.0, test mse: 0.181\n",
      "best val mse: 0.401, best alpha: 8192.0, test mse: 0.960\n",
      "best val mse: 0.424, best alpha: 8192.0, test mse: 0.219\n",
      "best val mse: 0.416, best alpha: 1024.0, test mse: 0.293\n",
      "best val mse: 0.413, best alpha: 8192.0, test mse: 0.336\n",
      "best val mse: 0.415, best alpha: 8192.0, test mse: 0.412\n",
      "best val mse: 0.417, best alpha: 8192.0, test mse: 0.268\n",
      "best val mse: 0.411, best alpha: 8192.0, test mse: 0.447\n",
      "best val mse: 0.416, best alpha: 8192.0, test mse: 0.276\n",
      "best val mse: 0.397, best alpha: 1024.0, test mse: 0.596\n",
      "best val mse: 0.406, best alpha: 1024.0, test mse: 0.440\n",
      "best val mse: 0.411, best alpha: 1024.0, test mse: 0.436\n",
      "best val mse: 0.418, best alpha: 8192.0, test mse: 0.245\n",
      "best val mse: 0.412, best alpha: 8192.0, test mse: 0.429\n",
      "best val mse: 0.418, best alpha: 8192.0, test mse: 0.348\n",
      "best val mse: 0.417, best alpha: 8192.0, test mse: 0.143\n",
      "best val mse: 0.413, best alpha: 8192.0, test mse: 0.394\n",
      "best val mse: 0.407, best alpha: 8192.0, test mse: 0.549\n",
      "best val mse: 0.397, best alpha: 8192.0, test mse: 0.667\n",
      "== nlmean_scalar rural ==\n",
      "best val mse: 0.218, best alpha: 128.0, test mse: 0.311\n",
      "best val mse: 0.223, best alpha: 128.0, test mse: 0.158\n",
      "best val mse: 0.228, best alpha: 128.0, test mse: 0.075\n",
      "best val mse: 0.220, best alpha: 128.0, test mse: 0.250\n",
      "best val mse: 0.220, best alpha: 128.0, test mse: 0.271\n",
      "best val mse: 0.217, best alpha: 128.0, test mse: 0.353\n",
      "best val mse: 0.214, best alpha: 128.0, test mse: 0.310\n",
      "best val mse: 0.209, best alpha: 128.0, test mse: 0.675\n",
      "best val mse: 0.222, best alpha: 128.0, test mse: 0.132\n",
      "best val mse: 0.224, best alpha: 128.0, test mse: 0.194\n",
      "best val mse: 0.221, best alpha: 128.0, test mse: 0.217\n",
      "best val mse: 0.240, best alpha: 128.0, test mse: 0.084\n",
      "best val mse: 0.222, best alpha: 128.0, test mse: 0.181\n",
      "best val mse: 0.226, best alpha: 128.0, test mse: 0.107\n",
      "best val mse: 0.175, best alpha: 2.0, test mse: 1.211\n",
      "best val mse: 0.230, best alpha: 128.0, test mse: 0.089\n",
      "best val mse: 0.215, best alpha: 128.0, test mse: 0.415\n",
      "best val mse: 0.223, best alpha: 128.0, test mse: 0.137\n",
      "best val mse: 0.228, best alpha: 128.0, test mse: 0.156\n",
      "best val mse: 0.222, best alpha: 128.0, test mse: 0.134\n",
      "best val mse: 0.227, best alpha: 128.0, test mse: 0.096\n",
      "best val mse: 0.223, best alpha: 128.0, test mse: 0.163\n",
      "best val mse: 0.221, best alpha: 128.0, test mse: 0.230\n"
     ]
    }
   ],
   "source": [
    "model_name = 'nlmean_scalar'\n",
    "run_ridge_ooc_wrapper(model_name=model_name, img_hists=normalized_nls_mean)"
   ]
  },
  {
   "cell_type": "code",
   "execution_count": 34,
   "metadata": {
    "scrolled": true
   },
   "outputs": [
    {
     "name": "stdout",
     "output_type": "stream",
     "text": [
      "rgb_hist\n",
      "best val mse: 0.543, best alpha: 8192.0, test mse: 0.945\n",
      "best val mse: 0.571, best alpha: 8192.0, test mse: 0.318\n",
      "best val mse: 0.558, best alpha: 8192.0, test mse: 0.617\n",
      "best val mse: 0.562, best alpha: 8192.0, test mse: 0.562\n",
      "best val mse: 0.561, best alpha: 8192.0, test mse: 0.519\n",
      "best val mse: 0.561, best alpha: 8192.0, test mse: 0.478\n",
      "best val mse: 0.541, best alpha: 8192.0, test mse: 0.895\n",
      "best val mse: 0.551, best alpha: 8192.0, test mse: 0.860\n",
      "best val mse: 0.561, best alpha: 8192.0, test mse: 0.465\n",
      "best val mse: 0.562, best alpha: 1024.0, test mse: 0.549\n",
      "best val mse: 0.571, best alpha: 8192.0, test mse: 0.306\n",
      "best val mse: 0.584, best alpha: 8192.0, test mse: 0.355\n",
      "best val mse: 0.566, best alpha: 8192.0, test mse: 0.403\n",
      "best val mse: 0.565, best alpha: 8192.0, test mse: 0.478\n",
      "best val mse: 0.548, best alpha: 8192.0, test mse: 0.784\n",
      "best val mse: 0.573, best alpha: 1024.0, test mse: 0.337\n",
      "best val mse: 0.559, best alpha: 8192.0, test mse: 0.599\n",
      "best val mse: 0.562, best alpha: 8192.0, test mse: 0.408\n",
      "best val mse: 0.568, best alpha: 1024.0, test mse: 0.498\n",
      "best val mse: 0.564, best alpha: 8192.0, test mse: 0.322\n",
      "best val mse: 0.569, best alpha: 8192.0, test mse: 0.351\n",
      "best val mse: 0.557, best alpha: 8192.0, test mse: 0.626\n",
      "best val mse: 0.534, best alpha: 8192.0, test mse: 1.105\n",
      "== rgb_hist urban ==\n",
      "best val mse: 0.405, best alpha: 8192.0, test mse: 0.619\n",
      "best val mse: 0.424, best alpha: 8192.0, test mse: 0.343\n",
      "best val mse: 0.414, best alpha: 8192.0, test mse: 0.538\n",
      "best val mse: 0.426, best alpha: 8192.0, test mse: 0.259\n",
      "best val mse: 0.424, best alpha: 8192.0, test mse: 0.228\n",
      "best val mse: 0.411, best alpha: 8192.0, test mse: 0.770\n",
      "best val mse: 0.430, best alpha: 8192.0, test mse: 0.253\n",
      "best val mse: 0.422, best alpha: 8192.0, test mse: 0.341\n",
      "best val mse: 0.421, best alpha: 8192.0, test mse: 0.304\n",
      "best val mse: 0.423, best alpha: 8192.0, test mse: 0.402\n",
      "best val mse: 0.424, best alpha: 8192.0, test mse: 0.265\n",
      "best val mse: 0.417, best alpha: 8192.0, test mse: 0.446\n",
      "best val mse: 0.424, best alpha: 8192.0, test mse: 0.227\n",
      "best val mse: 0.410, best alpha: 8192.0, test mse: 0.579\n",
      "best val mse: 0.425, best alpha: 65536.0, test mse: 0.407\n",
      "best val mse: 0.420, best alpha: 8192.0, test mse: 0.395\n",
      "best val mse: 0.427, best alpha: 8192.0, test mse: 0.264\n",
      "best val mse: 0.421, best alpha: 8192.0, test mse: 0.343\n",
      "best val mse: 0.421, best alpha: 8192.0, test mse: 0.397\n",
      "best val mse: 0.425, best alpha: 8192.0, test mse: 0.125\n",
      "best val mse: 0.422, best alpha: 8192.0, test mse: 0.324\n",
      "best val mse: 0.413, best alpha: 8192.0, test mse: 0.569\n",
      "best val mse: 0.397, best alpha: 8192.0, test mse: 0.774\n",
      "== rgb_hist rural ==\n",
      "best val mse: 0.245, best alpha: 33554432.0, test mse: 0.333\n",
      "best val mse: 0.249, best alpha: 4194304.0, test mse: 0.200\n",
      "best val mse: 0.254, best alpha: 8192.0, test mse: 0.127\n",
      "best val mse: 0.248, best alpha: 4194304.0, test mse: 0.236\n",
      "best val mse: 0.246, best alpha: 4194304.0, test mse: 0.326\n",
      "best val mse: 0.247, best alpha: 8192.0, test mse: 0.249\n",
      "best val mse: 0.239, best alpha: 524288.0, test mse: 0.364\n",
      "best val mse: 0.232, best alpha: 4194304.0, test mse: 0.864\n",
      "best val mse: 0.250, best alpha: 4194304.0, test mse: 0.113\n",
      "best val mse: 0.249, best alpha: 8192.0, test mse: 0.237\n",
      "best val mse: 0.248, best alpha: 8192.0, test mse: 0.235\n",
      "best val mse: 0.268, best alpha: 17179869184.0, test mse: 0.101\n",
      "best val mse: 0.247, best alpha: 17179869184.0, test mse: 0.256\n",
      "best val mse: 0.251, best alpha: 17179869184.0, test mse: 0.161\n",
      "best val mse: 0.213, best alpha: 17179869184.0, test mse: 0.703\n",
      "best val mse: 0.256, best alpha: 8192.0, test mse: 0.123\n",
      "best val mse: 0.242, best alpha: 17179869184.0, test mse: 0.430\n",
      "best val mse: 0.250, best alpha: 8192.0, test mse: 0.129\n",
      "best val mse: 0.255, best alpha: 4194304.0, test mse: 0.187\n",
      "best val mse: 0.249, best alpha: 4194304.0, test mse: 0.165\n",
      "best val mse: 0.253, best alpha: 8192.0, test mse: 0.143\n",
      "best val mse: 0.250, best alpha: 4194304.0, test mse: 0.171\n",
      "best val mse: 0.246, best alpha: 8192.0, test mse: 0.275\n"
     ]
    }
   ],
   "source": [
    "model_name = 'rgb_hist'\n",
    "run_ridge_ooc_wrapper(model_name=model_name, img_hists=normalized_image_hists[:, :3, :])"
   ]
  },
  {
   "cell_type": "code",
   "execution_count": 35,
   "metadata": {
    "scrolled": true
   },
   "outputs": [
    {
     "name": "stdout",
     "output_type": "stream",
     "text": [
      "rgbnl_hist\n",
      "best val mse: 0.228, best alpha: 1024.0, test mse: 0.365\n",
      "best val mse: 0.234, best alpha: 1024.0, test mse: 0.172\n",
      "best val mse: 0.237, best alpha: 1024.0, test mse: 0.131\n",
      "best val mse: 0.227, best alpha: 1024.0, test mse: 0.372\n",
      "best val mse: 0.232, best alpha: 1024.0, test mse: 0.210\n",
      "best val mse: 0.232, best alpha: 1024.0, test mse: 0.231\n",
      "best val mse: 0.233, best alpha: 1024.0, test mse: 0.163\n",
      "best val mse: 0.232, best alpha: 1024.0, test mse: 0.237\n",
      "best val mse: 0.234, best alpha: 1024.0, test mse: 0.187\n",
      "best val mse: 0.235, best alpha: 1024.0, test mse: 0.199\n",
      "best val mse: 0.236, best alpha: 1024.0, test mse: 0.134\n",
      "best val mse: 0.235, best alpha: 1024.0, test mse: 0.193\n",
      "best val mse: 0.224, best alpha: 1024.0, test mse: 0.363\n",
      "best val mse: 0.237, best alpha: 1024.0, test mse: 0.132\n",
      "best val mse: 0.230, best alpha: 1024.0, test mse: 0.304\n",
      "best val mse: 0.233, best alpha: 1024.0, test mse: 0.164\n",
      "best val mse: 0.239, best alpha: 1024.0, test mse: 0.159\n",
      "best val mse: 0.233, best alpha: 1024.0, test mse: 0.135\n",
      "best val mse: 0.238, best alpha: 1024.0, test mse: 0.116\n",
      "best val mse: 0.231, best alpha: 1024.0, test mse: 0.271\n",
      "best val mse: 0.222, best alpha: 1024.0, test mse: 0.445\n",
      "== rgbnl_hist urban ==\n",
      "best val mse: 0.294, best alpha: 1024.0, test mse: 0.404\n",
      "best val mse: 0.306, best alpha: 1024.0, test mse: 0.162\n",
      "best val mse: 0.301, best alpha: 1024.0, test mse: 0.236\n",
      "best val mse: 0.300, best alpha: 1024.0, test mse: 0.276\n",
      "best val mse: 0.302, best alpha: 1024.0, test mse: 0.180\n",
      "best val mse: 0.297, best alpha: 1024.0, test mse: 0.431\n",
      "best val mse: 0.310, best alpha: 1024.0, test mse: 0.126\n",
      "best val mse: 0.305, best alpha: 1024.0, test mse: 0.178\n",
      "best val mse: 0.301, best alpha: 1024.0, test mse: 0.172\n",
      "best val mse: 0.303, best alpha: 1024.0, test mse: 0.280\n",
      "best val mse: 0.301, best alpha: 1024.0, test mse: 0.235\n",
      "best val mse: 0.286, best alpha: 1024.0, test mse: 0.471\n",
      "best val mse: 0.303, best alpha: 1024.0, test mse: 0.156\n",
      "best val mse: 0.296, best alpha: 1024.0, test mse: 0.406\n",
      "best val mse: 0.304, best alpha: 1024.0, test mse: 0.292\n",
      "best val mse: 0.300, best alpha: 1024.0, test mse: 0.254\n",
      "best val mse: 0.303, best alpha: 1024.0, test mse: 0.228\n",
      "best val mse: 0.300, best alpha: 1024.0, test mse: 0.229\n",
      "best val mse: 0.303, best alpha: 1024.0, test mse: 0.254\n",
      "best val mse: 0.302, best alpha: 1024.0, test mse: 0.100\n",
      "best val mse: 0.303, best alpha: 1024.0, test mse: 0.217\n",
      "best val mse: 0.292, best alpha: 1024.0, test mse: 0.455\n",
      "best val mse: 0.276, best alpha: 1024.0, test mse: 0.651\n",
      "== rgbnl_hist rural ==\n",
      "best val mse: 0.164, best alpha: 1024.0, test mse: 0.246\n",
      "best val mse: 0.167, best alpha: 1024.0, test mse: 0.144\n",
      "best val mse: 0.171, best alpha: 1024.0, test mse: 0.084\n",
      "best val mse: 0.166, best alpha: 1024.0, test mse: 0.223\n",
      "best val mse: 0.166, best alpha: 1024.0, test mse: 0.212\n",
      "best val mse: 0.166, best alpha: 1024.0, test mse: 0.207\n",
      "best val mse: 0.159, best alpha: 1024.0, test mse: 0.274\n",
      "best val mse: 0.164, best alpha: 1024.0, test mse: 0.321\n",
      "best val mse: 0.168, best alpha: 1024.0, test mse: 0.093\n",
      "best val mse: 0.167, best alpha: 1024.0, test mse: 0.175\n",
      "best val mse: 0.165, best alpha: 1024.0, test mse: 0.185\n",
      "best val mse: 0.179, best alpha: 1024.0, test mse: 0.080\n",
      "best val mse: 0.169, best alpha: 1024.0, test mse: 0.136\n",
      "best val mse: 0.170, best alpha: 1024.0, test mse: 0.094\n",
      "best val mse: 0.154, best alpha: 1024.0, test mse: 0.379\n",
      "best val mse: 0.172, best alpha: 1024.0, test mse: 0.087\n",
      "best val mse: 0.163, best alpha: 1024.0, test mse: 0.297\n",
      "best val mse: 0.167, best alpha: 1024.0, test mse: 0.120\n",
      "best val mse: 0.174, best alpha: 1024.0, test mse: 0.109\n",
      "best val mse: 0.167, best alpha: 1024.0, test mse: 0.126\n",
      "best val mse: 0.172, best alpha: 1024.0, test mse: 0.070\n",
      "best val mse: 0.169, best alpha: 1024.0, test mse: 0.102\n",
      "best val mse: 0.163, best alpha: 1024.0, test mse: 0.245\n"
     ]
    }
   ],
   "source": [
    "model_name = 'rgbnl_hist'\n",
    "bands = [0, 1, 2, -2, -1]\n",
    "run_ridge_ooc_wrapper(model_name=model_name, img_hists=normalized_image_hists[:, bands, :])"
   ]
  },
  {
   "cell_type": "code",
   "execution_count": 36,
   "metadata": {
    "scrolled": true
   },
   "outputs": [
    {
     "name": "stdout",
     "output_type": "stream",
     "text": [
      "ms_hist\n",
      "best val mse: 0.483, best alpha: 1024.0, test mse: 0.544\n",
      "best val mse: 0.490, best alpha: 1024.0, test mse: 0.237\n",
      "best val mse: 0.486, best alpha: 1024.0, test mse: 0.350\n",
      "best val mse: 0.483, best alpha: 1024.0, test mse: 0.485\n",
      "best val mse: 0.482, best alpha: 1024.0, test mse: 0.404\n",
      "best val mse: 0.487, best alpha: 1024.0, test mse: 0.306\n",
      "best val mse: 0.439, best alpha: 1024.0, test mse: 0.979\n",
      "best val mse: 0.478, best alpha: 1024.0, test mse: 0.577\n",
      "best val mse: 0.481, best alpha: 1024.0, test mse: 0.340\n",
      "best val mse: 0.485, best alpha: 1024.0, test mse: 0.480\n",
      "best val mse: 0.485, best alpha: 1024.0, test mse: 0.339\n",
      "best val mse: 0.491, best alpha: 1024.0, test mse: 0.364\n",
      "best val mse: 0.488, best alpha: 1024.0, test mse: 0.303\n",
      "best val mse: 0.492, best alpha: 1024.0, test mse: 0.312\n",
      "best val mse: 0.468, best alpha: 1024.0, test mse: 0.722\n",
      "best val mse: 0.487, best alpha: 1024.0, test mse: 0.314\n",
      "best val mse: 0.473, best alpha: 1024.0, test mse: 0.725\n",
      "best val mse: 0.477, best alpha: 1024.0, test mse: 0.442\n",
      "best val mse: 0.495, best alpha: 1024.0, test mse: 0.383\n",
      "best val mse: 0.484, best alpha: 1024.0, test mse: 0.247\n",
      "best val mse: 0.489, best alpha: 1024.0, test mse: 0.317\n",
      "best val mse: 0.484, best alpha: 1024.0, test mse: 0.414\n",
      "best val mse: 0.455, best alpha: 1024.0, test mse: 0.973\n",
      "== ms_hist urban ==\n",
      "best val mse: 0.386, best alpha: 8192.0, test mse: 0.550\n",
      "best val mse: 0.401, best alpha: 8192.0, test mse: 0.281\n",
      "best val mse: 0.395, best alpha: 8192.0, test mse: 0.384\n",
      "best val mse: 0.403, best alpha: 8192.0, test mse: 0.241\n",
      "best val mse: 0.399, best alpha: 8192.0, test mse: 0.224\n",
      "best val mse: 0.385, best alpha: 8192.0, test mse: 0.736\n",
      "best val mse: 0.403, best alpha: 8192.0, test mse: 0.248\n",
      "best val mse: 0.400, best alpha: 8192.0, test mse: 0.311\n",
      "best val mse: 0.398, best alpha: 8192.0, test mse: 0.212\n",
      "best val mse: 0.399, best alpha: 8192.0, test mse: 0.372\n",
      "best val mse: 0.399, best alpha: 8192.0, test mse: 0.269\n",
      "best val mse: 0.391, best alpha: 8192.0, test mse: 0.453\n",
      "best val mse: 0.400, best alpha: 8192.0, test mse: 0.220\n",
      "best val mse: 0.387, best alpha: 8192.0, test mse: 0.560\n",
      "best val mse: 0.397, best alpha: 8192.0, test mse: 0.399\n",
      "best val mse: 0.396, best alpha: 8192.0, test mse: 0.342\n",
      "best val mse: 0.396, best alpha: 8192.0, test mse: 0.323\n",
      "best val mse: 0.393, best alpha: 8192.0, test mse: 0.367\n",
      "best val mse: 0.397, best alpha: 8192.0, test mse: 0.369\n",
      "best val mse: 0.399, best alpha: 8192.0, test mse: 0.133\n",
      "best val mse: 0.398, best alpha: 8192.0, test mse: 0.288\n",
      "best val mse: 0.390, best alpha: 8192.0, test mse: 0.538\n",
      "best val mse: 0.371, best alpha: 8192.0, test mse: 0.749\n",
      "== ms_hist rural ==\n",
      "best val mse: 0.241, best alpha: 65536.0, test mse: 0.286\n",
      "best val mse: 0.244, best alpha: 65536.0, test mse: 0.188\n",
      "best val mse: 0.248, best alpha: 65536.0, test mse: 0.117\n",
      "best val mse: 0.242, best alpha: 65536.0, test mse: 0.252\n",
      "best val mse: 0.242, best alpha: 65536.0, test mse: 0.255\n",
      "best val mse: 0.241, best alpha: 65536.0, test mse: 0.255\n",
      "best val mse: 0.236, best alpha: 65536.0, test mse: 0.335\n",
      "best val mse: 0.230, best alpha: 524288.0, test mse: 0.826\n",
      "best val mse: 0.244, best alpha: 65536.0, test mse: 0.114\n",
      "best val mse: 0.244, best alpha: 65536.0, test mse: 0.218\n",
      "best val mse: 0.237, best alpha: 8192.0, test mse: 0.389\n",
      "best val mse: 0.264, best alpha: 65536.0, test mse: 0.085\n",
      "best val mse: 0.243, best alpha: 65536.0, test mse: 0.226\n",
      "best val mse: 0.246, best alpha: 65536.0, test mse: 0.140\n",
      "best val mse: 0.207, best alpha: 65536.0, test mse: 0.695\n",
      "best val mse: 0.248, best alpha: 65536.0, test mse: 0.134\n",
      "best val mse: 0.237, best alpha: 65536.0, test mse: 0.405\n",
      "best val mse: 0.244, best alpha: 65536.0, test mse: 0.123\n",
      "best val mse: 0.249, best alpha: 65536.0, test mse: 0.187\n",
      "best val mse: 0.243, best alpha: 65536.0, test mse: 0.160\n",
      "best val mse: 0.247, best alpha: 65536.0, test mse: 0.140\n",
      "best val mse: 0.244, best alpha: 65536.0, test mse: 0.172\n",
      "best val mse: 0.240, best alpha: 65536.0, test mse: 0.268\n"
     ]
    }
   ],
   "source": [
    "model_name = 'ms_hist'\n",
    "run_ridge_ooc_wrapper(model_name=model_name, img_hists=normalized_image_hists[:, :7, :])"
   ]
  },
  {
   "cell_type": "code",
   "execution_count": 37,
   "metadata": {
    "scrolled": true
   },
   "outputs": [
    {
     "name": "stdout",
     "output_type": "stream",
     "text": [
      "msnl_hist\n",
      "best val mse: 0.244, best alpha: 1024.0, test mse: 0.361\n",
      "best val mse: 0.248, best alpha: 1024.0, test mse: 0.181\n",
      "best val mse: 0.252, best alpha: 1024.0, test mse: 0.130\n",
      "best val mse: 0.238, best alpha: 1024.0, test mse: 0.433\n",
      "best val mse: 0.247, best alpha: 1024.0, test mse: 0.202\n",
      "best val mse: 0.247, best alpha: 1024.0, test mse: 0.225\n",
      "best val mse: 0.244, best alpha: 1024.0, test mse: 0.300\n",
      "best val mse: 0.247, best alpha: 1024.0, test mse: 0.237\n",
      "best val mse: 0.247, best alpha: 1024.0, test mse: 0.168\n",
      "best val mse: 0.249, best alpha: 1024.0, test mse: 0.237\n",
      "best val mse: 0.244, best alpha: 1024.0, test mse: 0.249\n",
      "best val mse: 0.250, best alpha: 1024.0, test mse: 0.205\n",
      "best val mse: 0.250, best alpha: 1024.0, test mse: 0.146\n",
      "best val mse: 0.250, best alpha: 1024.0, test mse: 0.204\n",
      "best val mse: 0.237, best alpha: 1024.0, test mse: 0.381\n",
      "best val mse: 0.248, best alpha: 1024.0, test mse: 0.174\n",
      "best val mse: 0.243, best alpha: 1024.0, test mse: 0.337\n",
      "best val mse: 0.246, best alpha: 1024.0, test mse: 0.206\n",
      "best val mse: 0.256, best alpha: 1024.0, test mse: 0.163\n",
      "best val mse: 0.248, best alpha: 1024.0, test mse: 0.139\n",
      "best val mse: 0.253, best alpha: 1024.0, test mse: 0.125\n",
      "best val mse: 0.245, best alpha: 1024.0, test mse: 0.279\n",
      "best val mse: 0.237, best alpha: 1024.0, test mse: 0.484\n",
      "== msnl_hist urban ==\n",
      "best val mse: 0.313, best alpha: 1024.0, test mse: 0.437\n",
      "best val mse: 0.325, best alpha: 1024.0, test mse: 0.172\n",
      "best val mse: 0.320, best alpha: 1024.0, test mse: 0.239\n",
      "best val mse: 0.317, best alpha: 1024.0, test mse: 0.344\n",
      "best val mse: 0.322, best alpha: 1024.0, test mse: 0.173\n",
      "best val mse: 0.313, best alpha: 1024.0, test mse: 0.463\n",
      "best val mse: 0.330, best alpha: 1024.0, test mse: 0.143\n",
      "best val mse: 0.325, best alpha: 1024.0, test mse: 0.182\n",
      "best val mse: 0.320, best alpha: 1024.0, test mse: 0.179\n",
      "best val mse: 0.326, best alpha: 1024.0, test mse: 0.273\n",
      "best val mse: 0.322, best alpha: 1024.0, test mse: 0.157\n",
      "best val mse: 0.313, best alpha: 1024.0, test mse: 0.435\n",
      "best val mse: 0.323, best alpha: 1024.0, test mse: 0.310\n",
      "best val mse: 0.318, best alpha: 1024.0, test mse: 0.272\n",
      "best val mse: 0.319, best alpha: 1024.0, test mse: 0.290\n",
      "best val mse: 0.317, best alpha: 1024.0, test mse: 0.273\n",
      "best val mse: 0.324, best alpha: 1024.0, test mse: 0.252\n",
      "best val mse: 0.320, best alpha: 1024.0, test mse: 0.116\n",
      "best val mse: 0.322, best alpha: 1024.0, test mse: 0.212\n",
      "best val mse: 0.311, best alpha: 1024.0, test mse: 0.462\n",
      "best val mse: 0.292, best alpha: 1024.0, test mse: 0.715\n",
      "== msnl_hist rural ==\n",
      "best val mse: 0.178, best alpha: 1024.0, test mse: 0.237\n",
      "best val mse: 0.179, best alpha: 1024.0, test mse: 0.155\n",
      "best val mse: 0.185, best alpha: 1024.0, test mse: 0.084\n",
      "best val mse: 0.177, best alpha: 1024.0, test mse: 0.271\n",
      "best val mse: 0.179, best alpha: 1024.0, test mse: 0.189\n",
      "best val mse: 0.179, best alpha: 1024.0, test mse: 0.192\n",
      "best val mse: 0.177, best alpha: 1024.0, test mse: 0.238\n",
      "best val mse: 0.178, best alpha: 1024.0, test mse: 0.301\n",
      "best val mse: 0.181, best alpha: 1024.0, test mse: 0.095\n",
      "best val mse: 0.181, best alpha: 1024.0, test mse: 0.175\n",
      "best val mse: 0.166, best alpha: 1024.0, test mse: 0.319\n",
      "best val mse: 0.192, best alpha: 1024.0, test mse: 0.081\n",
      "best val mse: 0.181, best alpha: 1024.0, test mse: 0.152\n",
      "best val mse: 0.183, best alpha: 1024.0, test mse: 0.092\n",
      "best val mse: 0.161, best alpha: 1024.0, test mse: 0.420\n",
      "best val mse: 0.181, best alpha: 1024.0, test mse: 0.133\n",
      "best val mse: 0.175, best alpha: 1024.0, test mse: 0.312\n",
      "best val mse: 0.178, best alpha: 1024.0, test mse: 0.158\n",
      "best val mse: 0.188, best alpha: 1024.0, test mse: 0.117\n",
      "best val mse: 0.180, best alpha: 1024.0, test mse: 0.133\n",
      "best val mse: 0.187, best alpha: 1024.0, test mse: 0.073\n",
      "best val mse: 0.181, best alpha: 1024.0, test mse: 0.112\n",
      "best val mse: 0.180, best alpha: 1024.0, test mse: 0.238\n"
     ]
    }
   ],
   "source": [
    "model_name = 'msnl_hist'\n",
    "run_ridge_ooc_wrapper(model_name=model_name, img_hists=normalized_image_hists)"
   ]
  },
  {
   "cell_type": "code",
   "execution_count": 38,
   "metadata": {
    "scrolled": true
   },
   "outputs": [
    {
     "name": "stdout",
     "output_type": "stream",
     "text": [
      "nl_hist\n",
      "best val mse: 0.223, best alpha: 128.0, test mse: 0.365\n",
      "best val mse: 0.232, best alpha: 1024.0, test mse: 0.162\n",
      "best val mse: 0.234, best alpha: 1024.0, test mse: 0.126\n",
      "best val mse: 0.225, best alpha: 1024.0, test mse: 0.377\n",
      "best val mse: 0.229, best alpha: 1024.0, test mse: 0.228\n",
      "best val mse: 0.229, best alpha: 1024.0, test mse: 0.271\n",
      "best val mse: 0.228, best alpha: 1024.0, test mse: 0.260\n",
      "best val mse: 0.229, best alpha: 1024.0, test mse: 0.246\n",
      "best val mse: 0.230, best alpha: 1024.0, test mse: 0.171\n",
      "best val mse: 0.230, best alpha: 1024.0, test mse: 0.223\n",
      "best val mse: 0.232, best alpha: 1024.0, test mse: 0.186\n",
      "best val mse: 0.234, best alpha: 1024.0, test mse: 0.190\n",
      "best val mse: 0.232, best alpha: 1024.0, test mse: 0.158\n",
      "best val mse: 0.233, best alpha: 1024.0, test mse: 0.201\n",
      "best val mse: 0.217, best alpha: 1024.0, test mse: 0.385\n",
      "best val mse: 0.235, best alpha: 1024.0, test mse: 0.128\n",
      "best val mse: 0.226, best alpha: 1024.0, test mse: 0.348\n",
      "best val mse: 0.232, best alpha: 1024.0, test mse: 0.140\n",
      "best val mse: 0.237, best alpha: 128.0, test mse: 0.153\n",
      "best val mse: 0.231, best alpha: 1024.0, test mse: 0.121\n",
      "best val mse: 0.234, best alpha: 1024.0, test mse: 0.121\n",
      "best val mse: 0.228, best alpha: 128.0, test mse: 0.271\n",
      "best val mse: 0.223, best alpha: 1024.0, test mse: 0.379\n",
      "== nl_hist urban ==\n",
      "best val mse: 0.283, best alpha: 1024.0, test mse: 0.403\n",
      "best val mse: 0.296, best alpha: 1024.0, test mse: 0.160\n",
      "best val mse: 0.293, best alpha: 1024.0, test mse: 0.196\n",
      "best val mse: 0.289, best alpha: 1024.0, test mse: 0.272\n",
      "best val mse: 0.292, best alpha: 1024.0, test mse: 0.187\n",
      "best val mse: 0.286, best alpha: 1024.0, test mse: 0.446\n",
      "best val mse: 0.300, best alpha: 1024.0, test mse: 0.116\n",
      "best val mse: 0.295, best alpha: 1024.0, test mse: 0.170\n",
      "best val mse: 0.291, best alpha: 1024.0, test mse: 0.173\n",
      "best val mse: 0.293, best alpha: 1024.0, test mse: 0.265\n",
      "best val mse: 0.291, best alpha: 1024.0, test mse: 0.240\n",
      "best val mse: 0.277, best alpha: 1024.0, test mse: 0.456\n",
      "best val mse: 0.293, best alpha: 1024.0, test mse: 0.163\n",
      "best val mse: 0.284, best alpha: 1024.0, test mse: 0.429\n",
      "best val mse: 0.289, best alpha: 1024.0, test mse: 0.301\n",
      "best val mse: 0.290, best alpha: 1024.0, test mse: 0.267\n",
      "best val mse: 0.292, best alpha: 1024.0, test mse: 0.261\n",
      "best val mse: 0.292, best alpha: 1024.0, test mse: 0.182\n",
      "best val mse: 0.293, best alpha: 1024.0, test mse: 0.244\n",
      "best val mse: 0.293, best alpha: 1024.0, test mse: 0.073\n",
      "best val mse: 0.291, best alpha: 1024.0, test mse: 0.245\n",
      "best val mse: 0.282, best alpha: 1024.0, test mse: 0.442\n",
      "best val mse: 0.277, best alpha: 1024.0, test mse: 0.513\n",
      "== nl_hist rural ==\n",
      "best val mse: 0.163, best alpha: 1024.0, test mse: 0.272\n",
      "best val mse: 0.168, best alpha: 1024.0, test mse: 0.141\n",
      "best val mse: 0.171, best alpha: 1024.0, test mse: 0.081\n",
      "best val mse: 0.165, best alpha: 1024.0, test mse: 0.236\n",
      "best val mse: 0.166, best alpha: 1024.0, test mse: 0.249\n",
      "best val mse: 0.165, best alpha: 1024.0, test mse: 0.244\n",
      "best val mse: 0.161, best alpha: 1024.0, test mse: 0.248\n",
      "best val mse: 0.163, best alpha: 1024.0, test mse: 0.333\n",
      "best val mse: 0.168, best alpha: 1024.0, test mse: 0.097\n",
      "best val mse: 0.168, best alpha: 128.0, test mse: 0.160\n",
      "best val mse: 0.167, best alpha: 1024.0, test mse: 0.169\n",
      "best val mse: 0.178, best alpha: 1024.0, test mse: 0.081\n",
      "best val mse: 0.167, best alpha: 1024.0, test mse: 0.168\n",
      "best val mse: 0.170, best alpha: 1024.0, test mse: 0.092\n",
      "best val mse: 0.150, best alpha: 1024.0, test mse: 0.404\n",
      "best val mse: 0.173, best alpha: 1024.0, test mse: 0.078\n",
      "best val mse: 0.162, best alpha: 1024.0, test mse: 0.337\n",
      "best val mse: 0.168, best alpha: 1024.0, test mse: 0.091\n",
      "best val mse: 0.174, best alpha: 1024.0, test mse: 0.104\n",
      "best val mse: 0.167, best alpha: 1024.0, test mse: 0.121\n",
      "best val mse: 0.172, best alpha: 1024.0, test mse: 0.068\n",
      "best val mse: 0.169, best alpha: 1024.0, test mse: 0.104\n",
      "best val mse: 0.165, best alpha: 1024.0, test mse: 0.220\n"
     ]
    }
   ],
   "source": [
    "model_name = 'nl_hist'\n",
    "run_ridge_ooc_wrapper(model_name=model_name, img_hists=normalized_image_hists[:, -2:, :])"
   ]
  },
  {
   "cell_type": "markdown",
   "metadata": {},
   "source": [
    "## Incountry"
   ]
  },
  {
   "cell_type": "code",
   "execution_count": 17,
   "metadata": {},
   "outputs": [],
   "source": [
    "def ridge_incountry_wrapper(img_hists, model_name):\n",
    "    print(model_name)\n",
    "    ridge_cv(\n",
    "        features=img_hists.reshape(num_examples, -1), labels=labels,\n",
    "        group_labels=incountry_group_labels, group_names=FOLDS,\n",
    "        savedir=os.path.join(LOGS_ROOT_DIR, 'dhs_ridge', model_name))\n",
    "    print(f'== {model_name} urban ==')\n",
    "    ridge_cv(\n",
    "        features=img_hists.reshape(num_examples, -1), labels=labels,\n",
    "        group_labels=incountry_group_labels, group_names=FOLDS,\n",
    "        savedir=os.path.join(LOGS_ROOT_DIR, 'dhs_ridge', model_name),\n",
    "        subset_indices=urban_indices, subset_name='urban')\n",
    "    print(f'== {model_name} rural ==')\n",
    "    ridge_cv(\n",
    "        features=img_hists.reshape(num_examples, -1), labels=labels,\n",
    "        group_labels=incountry_group_labels, group_names=FOLDS,\n",
    "        savedir=os.path.join(LOGS_ROOT_DIR, 'dhs_ridge', model_name),\n",
    "        subset_indices=rural_indices, subset_name='rural')"
   ]
  },
  {
   "cell_type": "code",
   "execution_count": 18,
   "metadata": {
    "scrolled": true
   },
   "outputs": [
    {
     "name": "stdout",
     "output_type": "stream",
     "text": [
      "incountry_nlcenter_scalar\n",
      "Group: A\n",
      "best val mse: 0.497, best alpha: 8192.0, test mse: 0.503\n",
      "Group: B\n",
      "best val mse: 0.440, best alpha: 1024.0, test mse: 0.661\n",
      "Group: C\n",
      "best val mse: 0.504, best alpha: 8192.0, test mse: 0.476\n",
      "Group: D\n",
      "best val mse: 0.503, best alpha: 8192.0, test mse: 0.487\n",
      "Group: E\n",
      "best val mse: 0.502, best alpha: 8192.0, test mse: 0.495\n",
      "saving test preds to: ../logs/dhs_ridge/incountry_nlcenter_scalar/test_preds.npz\n",
      "== incountry_nlcenter_scalar urban ==\n",
      "Group: A\n",
      "best val mse: 0.385, best alpha: 1024.0, test mse: 0.448\n",
      "Group: B\n",
      "best val mse: 0.379, best alpha: 1024.0, test mse: 0.466\n",
      "Group: C\n",
      "best val mse: 0.411, best alpha: 8192.0, test mse: 0.356\n",
      "Group: D\n",
      "best val mse: 0.402, best alpha: 8192.0, test mse: 0.395\n",
      "Group: E\n",
      "best val mse: 0.406, best alpha: 8192.0, test mse: 0.392\n",
      "saving test preds to: ../logs/dhs_ridge/incountry_nlcenter_scalar/test_preds_urban.npz\n",
      "== incountry_nlcenter_scalar rural ==\n",
      "Group: A\n",
      "best val mse: 0.214, best alpha: 16.0, test mse: 0.195\n",
      "Group: B\n",
      "best val mse: 0.220, best alpha: 16.0, test mse: 0.172\n",
      "Group: C\n",
      "best val mse: 0.199, best alpha: 16.0, test mse: 0.251\n",
      "Group: D\n",
      "best val mse: 0.208, best alpha: 16.0, test mse: 0.214\n",
      "Group: E\n",
      "best val mse: 0.210, best alpha: 16.0, test mse: 0.218\n",
      "saving test preds to: ../logs/dhs_ridge/incountry_nlcenter_scalar/test_preds_rural.npz\n"
     ]
    }
   ],
   "source": [
    "model_name = 'incountry_nlcenter_scalar'\n",
    "ridge_incountry_wrapper(model_name=model_name, img_hists=normalized_nls_center)"
   ]
  },
  {
   "cell_type": "code",
   "execution_count": 19,
   "metadata": {
    "scrolled": true
   },
   "outputs": [
    {
     "name": "stdout",
     "output_type": "stream",
     "text": [
      "incountry_nlmean_scalar\n",
      "Fold: A\n",
      "best val mse: 0.503, best alpha: 1024.0, test mse: 0.478\n",
      "Fold: B\n",
      "best val mse: 0.436, best alpha: 128.0, test mse: 0.748\n",
      "Fold: C\n",
      "best val mse: 0.520, best alpha: 8192.0, test mse: 0.493\n",
      "Fold: D\n",
      "best val mse: 0.516, best alpha: 1024.0, test mse: 0.459\n",
      "Fold: E\n",
      "best val mse: 0.512, best alpha: 1024.0, test mse: 0.449\n",
      "saving test preds to: ../logs/dhs_ridge/incountry_nlmean_scalar/test_preds.npz\n",
      "== incountry_nlmean_scalar urban ==\n",
      "Fold: A\n",
      "best val mse: 0.384, best alpha: 1024.0, test mse: 0.448\n",
      "Fold: B\n",
      "best val mse: 0.376, best alpha: 128.0, test mse: 0.537\n",
      "Fold: C\n",
      "best val mse: 0.410, best alpha: 1024.0, test mse: 0.353\n",
      "Fold: D\n",
      "best val mse: 0.405, best alpha: 1024.0, test mse: 0.382\n",
      "Fold: E\n",
      "best val mse: 0.409, best alpha: 1024.0, test mse: 0.364\n",
      "saving test preds to: ../logs/dhs_ridge/incountry_nlmean_scalar/test_preds_urban.npz\n",
      "== incountry_nlmean_scalar rural ==\n",
      "Fold: A\n",
      "best val mse: 0.219, best alpha: 128.0, test mse: 0.197\n",
      "Fold: B\n",
      "best val mse: 0.223, best alpha: 128.0, test mse: 0.178\n",
      "Fold: C\n",
      "best val mse: 0.201, best alpha: 16.0, test mse: 0.257\n",
      "Fold: D\n",
      "best val mse: 0.216, best alpha: 128.0, test mse: 0.204\n",
      "Fold: E\n",
      "best val mse: 0.211, best alpha: 128.0, test mse: 0.226\n",
      "saving test preds to: ../logs/dhs_ridge/incountry_nlmean_scalar/test_preds_rural.npz\n"
     ]
    }
   ],
   "source": [
    "model_name = 'incountry_nlmean_scalar'\n",
    "ridge_incountry_wrapper(model_name=model_name, img_hists=normalized_nls_mean)"
   ]
  },
  {
   "cell_type": "code",
   "execution_count": 20,
   "metadata": {
    "scrolled": true
   },
   "outputs": [
    {
     "name": "stdout",
     "output_type": "stream",
     "text": [
      "incountry_rgb_hist\n",
      "Fold: A\n",
      "best val mse: 0.522, best alpha: 1024.0, test mse: 0.561\n",
      "Fold: B\n",
      "best val mse: 0.533, best alpha: 1024.0, test mse: 0.531\n",
      "Fold: C\n",
      "best val mse: 0.544, best alpha: 1024.0, test mse: 0.504\n",
      "Fold: D\n",
      "best val mse: 0.527, best alpha: 1024.0, test mse: 0.544\n",
      "Fold: E\n",
      "best val mse: 0.539, best alpha: 1024.0, test mse: 0.507\n",
      "saving test preds to: ../logs/dhs_ridge/incountry_rgb_hist/test_preds.npz\n",
      "== incountry_rgb_hist urban ==\n",
      "Fold: A\n",
      "best val mse: 0.391, best alpha: 8192.0, test mse: 0.469\n",
      "Fold: B\n",
      "best val mse: 0.397, best alpha: 8192.0, test mse: 0.434\n",
      "Fold: C\n",
      "best val mse: 0.416, best alpha: 8192.0, test mse: 0.373\n",
      "Fold: D\n",
      "best val mse: 0.398, best alpha: 1024.0, test mse: 0.428\n",
      "Fold: E\n",
      "best val mse: 0.421, best alpha: 8192.0, test mse: 0.353\n",
      "saving test preds to: ../logs/dhs_ridge/incountry_rgb_hist/test_preds_urban.npz\n",
      "== incountry_rgb_hist rural ==\n",
      "Fold: A\n",
      "best val mse: 0.235, best alpha: 1024.0, test mse: 0.217\n",
      "Fold: B\n",
      "best val mse: 0.242, best alpha: 1024.0, test mse: 0.193\n",
      "Fold: C\n",
      "best val mse: 0.217, best alpha: 1024.0, test mse: 0.281\n",
      "Fold: D\n",
      "best val mse: 0.234, best alpha: 1024.0, test mse: 0.214\n",
      "Fold: E\n",
      "best val mse: 0.229, best alpha: 8192.0, test mse: 0.249\n",
      "saving test preds to: ../logs/dhs_ridge/incountry_rgb_hist/test_preds_rural.npz\n"
     ]
    }
   ],
   "source": [
    "model_name = 'incountry_rgb_hist'\n",
    "ridge_incountry_wrapper(model_name=model_name, img_hists=normalized_image_hists[:, :3, :])"
   ]
  },
  {
   "cell_type": "code",
   "execution_count": 21,
   "metadata": {
    "scrolled": true
   },
   "outputs": [
    {
     "name": "stdout",
     "output_type": "stream",
     "text": [
      "incountry_rgbnl_hist\n",
      "Fold: A\n",
      "best val mse: 0.222, best alpha: 1024.0, test mse: 0.222\n",
      "Fold: B\n",
      "best val mse: 0.222, best alpha: 1024.0, test mse: 0.236\n",
      "Fold: C\n",
      "best val mse: 0.230, best alpha: 1024.0, test mse: 0.211\n",
      "Fold: D\n",
      "best val mse: 0.222, best alpha: 1024.0, test mse: 0.222\n",
      "Fold: E\n",
      "best val mse: 0.224, best alpha: 1024.0, test mse: 0.213\n",
      "saving test preds to: ../logs/dhs_ridge/incountry_rgbnl_hist/test_preds.npz\n",
      "== incountry_rgbnl_hist urban ==\n",
      "Fold: A\n",
      "best val mse: 0.283, best alpha: 1024.0, test mse: 0.309\n",
      "Fold: B\n",
      "best val mse: 0.283, best alpha: 1024.0, test mse: 0.323\n",
      "Fold: C\n",
      "best val mse: 0.307, best alpha: 1024.0, test mse: 0.245\n",
      "Fold: D\n",
      "best val mse: 0.280, best alpha: 1024.0, test mse: 0.311\n",
      "Fold: E\n",
      "best val mse: 0.299, best alpha: 1024.0, test mse: 0.246\n",
      "saving test preds to: ../logs/dhs_ridge/incountry_rgbnl_hist/test_preds_urban.npz\n",
      "== incountry_rgbnl_hist rural ==\n",
      "Fold: A\n",
      "best val mse: 0.157, best alpha: 1024.0, test mse: 0.154\n",
      "Fold: B\n",
      "best val mse: 0.161, best alpha: 1024.0, test mse: 0.140\n",
      "Fold: C\n",
      "best val mse: 0.148, best alpha: 1024.0, test mse: 0.182\n",
      "Fold: D\n",
      "best val mse: 0.159, best alpha: 1024.0, test mse: 0.144\n",
      "Fold: E\n",
      "best val mse: 0.157, best alpha: 1024.0, test mse: 0.155\n",
      "saving test preds to: ../logs/dhs_ridge/incountry_rgbnl_hist/test_preds_rural.npz\n"
     ]
    }
   ],
   "source": [
    "model_name = 'incountry_rgbnl_hist'\n",
    "bands = [0, 1, 2, -2, -1]\n",
    "ridge_incountry_wrapper(model_name=model_name, img_hists=normalized_image_hists[:, bands, :])"
   ]
  },
  {
   "cell_type": "code",
   "execution_count": 22,
   "metadata": {
    "scrolled": true
   },
   "outputs": [
    {
     "name": "stdout",
     "output_type": "stream",
     "text": [
      "incountry_ms_hist\n",
      "Fold: A\n",
      "best val mse: 0.400, best alpha: 1024.0, test mse: 0.491\n",
      "Fold: B\n",
      "best val mse: 0.438, best alpha: 1024.0, test mse: 0.394\n",
      "Fold: C\n",
      "best val mse: 0.426, best alpha: 1024.0, test mse: 0.399\n",
      "Fold: D\n",
      "best val mse: 0.423, best alpha: 1024.0, test mse: 0.422\n",
      "Fold: E\n",
      "best val mse: 0.433, best alpha: 1024.0, test mse: 0.382\n",
      "saving test preds to: ../logs/dhs_ridge/incountry_ms_hist/test_preds.npz\n",
      "== incountry_ms_hist urban ==\n",
      "Fold: A\n",
      "best val mse: 0.353, best alpha: 1024.0, test mse: 0.428\n",
      "Fold: B\n",
      "best val mse: 0.369, best alpha: 8192.0, test mse: 0.371\n",
      "Fold: C\n",
      "best val mse: 0.375, best alpha: 8192.0, test mse: 0.345\n",
      "Fold: D\n",
      "best val mse: 0.361, best alpha: 1024.0, test mse: 0.388\n",
      "Fold: E\n",
      "best val mse: 0.383, best alpha: 8192.0, test mse: 0.319\n",
      "saving test preds to: ../logs/dhs_ridge/incountry_ms_hist/test_preds_urban.npz\n",
      "== incountry_ms_hist rural ==\n",
      "Fold: A\n",
      "best val mse: 0.222, best alpha: 8192.0, test mse: 0.210\n",
      "Fold: B\n",
      "best val mse: 0.232, best alpha: 8192.0, test mse: 0.178\n",
      "Fold: C\n",
      "best val mse: 0.198, best alpha: 1024.0, test mse: 0.289\n",
      "Fold: D\n",
      "best val mse: 0.225, best alpha: 8192.0, test mse: 0.198\n",
      "Fold: E\n",
      "best val mse: 0.219, best alpha: 8192.0, test mse: 0.226\n",
      "saving test preds to: ../logs/dhs_ridge/incountry_ms_hist/test_preds_rural.npz\n"
     ]
    }
   ],
   "source": [
    "model_name = 'incountry_ms_hist'\n",
    "ridge_incountry_wrapper(model_name=model_name, img_hists=normalized_image_hists[:, :7, :])"
   ]
  },
  {
   "cell_type": "code",
   "execution_count": 23,
   "metadata": {
    "scrolled": true
   },
   "outputs": [
    {
     "name": "stdout",
     "output_type": "stream",
     "text": [
      "incountry_msnl_hist\n",
      "Fold: A\n",
      "best val mse: 0.220, best alpha: 1024.0, test mse: 0.235\n",
      "Fold: B\n",
      "best val mse: 0.227, best alpha: 1024.0, test mse: 0.232\n",
      "Fold: C\n",
      "best val mse: 0.231, best alpha: 1024.0, test mse: 0.216\n",
      "Fold: D\n",
      "best val mse: 0.226, best alpha: 1024.0, test mse: 0.218\n",
      "Fold: E\n",
      "best val mse: 0.227, best alpha: 1024.0, test mse: 0.214\n",
      "saving test preds to: ../logs/dhs_ridge/incountry_msnl_hist/test_preds.npz\n",
      "== incountry_msnl_hist urban ==\n",
      "Fold: A\n",
      "best val mse: 0.285, best alpha: 1024.0, test mse: 0.324\n",
      "Fold: B\n",
      "best val mse: 0.292, best alpha: 1024.0, test mse: 0.330\n",
      "Fold: C\n",
      "best val mse: 0.317, best alpha: 8192.0, test mse: 0.278\n",
      "Fold: D\n",
      "best val mse: 0.290, best alpha: 1024.0, test mse: 0.313\n",
      "Fold: E\n",
      "best val mse: 0.313, best alpha: 1024.0, test mse: 0.249\n",
      "saving test preds to: ../logs/dhs_ridge/incountry_msnl_hist/test_preds_urban.npz\n",
      "== incountry_msnl_hist rural ==\n",
      "Fold: A\n",
      "best val mse: 0.155, best alpha: 1024.0, test mse: 0.160\n",
      "Fold: B\n",
      "best val mse: 0.163, best alpha: 1024.0, test mse: 0.136\n",
      "Fold: C\n",
      "best val mse: 0.141, best alpha: 1024.0, test mse: 0.193\n",
      "Fold: D\n",
      "best val mse: 0.160, best alpha: 1024.0, test mse: 0.136\n",
      "Fold: E\n",
      "best val mse: 0.158, best alpha: 1024.0, test mse: 0.149\n",
      "saving test preds to: ../logs/dhs_ridge/incountry_msnl_hist/test_preds_rural.npz\n"
     ]
    }
   ],
   "source": [
    "model_name = 'incountry_msnl_hist'\n",
    "ridge_incountry_wrapper(model_name=model_name, img_hists=normalized_image_hists)"
   ]
  },
  {
   "cell_type": "code",
   "execution_count": 24,
   "metadata": {
    "scrolled": true
   },
   "outputs": [
    {
     "name": "stdout",
     "output_type": "stream",
     "text": [
      "incountry_nl_hist\n",
      "Fold: A\n",
      "best val mse: 0.227, best alpha: 1024.0, test mse: 0.223\n",
      "Fold: B\n",
      "best val mse: 0.223, best alpha: 1024.0, test mse: 0.245\n",
      "Fold: C\n",
      "best val mse: 0.232, best alpha: 128.0, test mse: 0.215\n",
      "Fold: D\n",
      "best val mse: 0.226, best alpha: 1024.0, test mse: 0.225\n",
      "Fold: E\n",
      "best val mse: 0.226, best alpha: 128.0, test mse: 0.225\n",
      "saving test preds to: ../logs/dhs_ridge/incountry_nl_hist/test_preds.npz\n",
      "== incountry_nl_hist urban ==\n",
      "Fold: A\n",
      "best val mse: 0.286, best alpha: 1024.0, test mse: 0.296\n",
      "Fold: B\n",
      "best val mse: 0.278, best alpha: 1024.0, test mse: 0.328\n",
      "Fold: C\n",
      "best val mse: 0.304, best alpha: 1024.0, test mse: 0.246\n",
      "Fold: D\n",
      "best val mse: 0.278, best alpha: 1024.0, test mse: 0.307\n",
      "Fold: E\n",
      "best val mse: 0.294, best alpha: 1024.0, test mse: 0.251\n",
      "saving test preds to: ../logs/dhs_ridge/incountry_nl_hist/test_preds_urban.npz\n",
      "== incountry_nl_hist rural ==\n",
      "Fold: A\n",
      "best val mse: 0.162, best alpha: 128.0, test mse: 0.160\n",
      "Fold: B\n",
      "best val mse: 0.164, best alpha: 128.0, test mse: 0.149\n",
      "Fold: C\n",
      "best val mse: 0.155, best alpha: 128.0, test mse: 0.183\n",
      "Fold: D\n",
      "best val mse: 0.165, best alpha: 128.0, test mse: 0.148\n",
      "Fold: E\n",
      "best val mse: 0.160, best alpha: 128.0, test mse: 0.165\n",
      "saving test preds to: ../logs/dhs_ridge/incountry_nl_hist/test_preds_rural.npz\n"
     ]
    }
   ],
   "source": [
    "model_name = 'incountry_nl_hist'\n",
    "ridge_incountry_wrapper(model_name=model_name, img_hists=normalized_image_hists[:, -2:, :])"
   ]
  }
 ],
 "metadata": {
  "kernelspec": {
   "display_name": "Python 3",
   "language": "python",
   "name": "python3"
  },
  "language_info": {
   "codemirror_mode": {
    "name": "ipython",
    "version": 3
   },
   "file_extension": ".py",
   "mimetype": "text/x-python",
   "name": "python",
   "nbconvert_exporter": "python",
   "pygments_lexer": "ipython3",
   "version": "3.7.3"
  },
  "toc": {
   "base_numbering": 1,
   "nav_menu": {},
   "number_sections": true,
   "sideBar": true,
   "skip_h1_title": false,
   "title_cell": "Table of Contents",
   "title_sidebar": "Contents",
   "toc_cell": true,
   "toc_position": {},
   "toc_section_display": true,
   "toc_window_display": true
  }
 },
 "nbformat": 4,
 "nbformat_minor": 2
}
