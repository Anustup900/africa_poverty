{
 "cells": [
  {
   "cell_type": "markdown",
   "metadata": {
    "toc": true
   },
   "source": [
    "<h1>Table of Contents<span class=\"tocSkip\"></span></h1>\n",
    "<div class=\"toc\"><ul class=\"toc-item\"><li><span><a href=\"#Prerequisites\" data-toc-modified-id=\"Prerequisites-1\"><span class=\"toc-item-num\">1&nbsp;&nbsp;</span>Prerequisites</a></span></li><li><span><a href=\"#Imports-and-Constants\" data-toc-modified-id=\"Imports-and-Constants-2\"><span class=\"toc-item-num\">2&nbsp;&nbsp;</span>Imports and Constants</a></span><ul class=\"toc-item\"><li><span><a href=\"#Prepare-the-dataset\" data-toc-modified-id=\"Prepare-the-dataset-2.1\"><span class=\"toc-item-num\">2.1&nbsp;&nbsp;</span>Prepare the dataset</a></span></li><li><span><a href=\"#Mask-out-cloud,-snow,-and-cloud-shadow\" data-toc-modified-id=\"Mask-out-cloud,-snow,-and-cloud-shadow-2.2\"><span class=\"toc-item-num\">2.2&nbsp;&nbsp;</span>Mask out cloud, snow, and cloud shadow</a></span></li><li><span><a href=\"#Multi-yr-composite\" data-toc-modified-id=\"Multi-yr-composite-2.3\"><span class=\"toc-item-num\">2.3&nbsp;&nbsp;</span>Multi-yr composite</a></span></li><li><span><a href=\"#Add-nightlight\" data-toc-modified-id=\"Add-nightlight-2.4\"><span class=\"toc-item-num\">2.4&nbsp;&nbsp;</span>Add nightlight</a></span></li><li><span><a href=\"#Add-topography\" data-toc-modified-id=\"Add-topography-2.5\"><span class=\"toc-item-num\">2.5&nbsp;&nbsp;</span>Add topography</a></span></li><li><span><a href=\"#Export-TF-Records\" data-toc-modified-id=\"Export-TF-Records-2.6\"><span class=\"toc-item-num\">2.6&nbsp;&nbsp;</span>Export TF Records</a></span></li></ul></li></ul></div>"
   ]
  },
  {
   "cell_type": "markdown",
   "metadata": {},
   "source": [
    "# Prerequisites"
   ]
  },
  {
   "cell_type": "markdown",
   "metadata": {},
   "source": [
    "1. Register a Gmail email address at [https://code.earthengine.google.com](https://code.earthengine.google.come). This process may take a couple of days. Without registration, the `ee.Initialize()` command below will throw an error message.\n",
    "2. Within your conda environment, run `earthengine activate` and follow the prompt. For more instructions, see [https://developers.google.com/earth-engine/python_install-conda.html](https://developers.google.com/earth-engine/python_install-conda.html)."
   ]
  },
  {
   "cell_type": "markdown",
   "metadata": {},
   "source": [
    "# Imports and Constants"
   ]
  },
  {
   "cell_type": "code",
   "execution_count": 1,
   "metadata": {},
   "outputs": [],
   "source": [
    "import ee\n",
    "\n",
    "import optical_datasources as optx\n",
    "import imgtools\n",
    "import ee_tf_exports as tf"
   ]
  },
  {
   "cell_type": "code",
   "execution_count": 2,
   "metadata": {},
   "outputs": [],
   "source": [
    "ee.Initialize()"
   ]
  },
  {
   "cell_type": "markdown",
   "metadata": {},
   "source": [
    "## Prepare the dataset"
   ]
  },
  {
   "cell_type": "code",
   "execution_count": 3,
   "metadata": {},
   "outputs": [],
   "source": [
    "dhs = ee.FeatureCollection('ft:1lFCM5_0xgkHG2-dBKB2WCuQnFHCecO7z_4VOLrhA')"
   ]
  },
  {
   "cell_type": "code",
   "execution_count": 4,
   "metadata": {},
   "outputs": [],
   "source": [
    "dhs_oldest = dhs.filter([ee.Filter.gt('year', 2008), ee.Filter.lte('year', 2011)])  # [2009-2011] inclusive\n",
    "dhs_middle = dhs.filter([ee.Filter.gt('year', 2011), ee.Filter.lte('year', 2014)])  # [2012-2014] inclusive\n",
    "dhs_recent = dhs.filter(ee.Filter.gt('year', 2014))  # [2015-onwards]"
   ]
  },
  {
   "cell_type": "code",
   "execution_count": 5,
   "metadata": {},
   "outputs": [
    {
     "name": "stdout",
     "output_type": "stream",
     "text": [
      "Oldest size: 7130\n",
      "Middle size: 8500\n",
      "Recent size: 4041\n"
     ]
    }
   ],
   "source": [
    "print('Oldest size:', dhs_oldest.size().getInfo())\n",
    "print('Middle size:', dhs_middle.size().getInfo())\n",
    "print('Recent size:', dhs_recent.size().getInfo())"
   ]
  },
  {
   "cell_type": "code",
   "execution_count": 6,
   "metadata": {},
   "outputs": [
    {
     "data": {
      "text/plain": [
       "['senegal',\n",
       " 'benin',\n",
       " 'malawi',\n",
       " 'ghana',\n",
       " 'mozambique',\n",
       " 'tanzania',\n",
       " 'ethiopia',\n",
       " 'zambia',\n",
       " 'nigeria',\n",
       " 'cote_d_ivoire',\n",
       " 'angola',\n",
       " 'burkina_faso',\n",
       " 'cameroon',\n",
       " 'uganda',\n",
       " 'zimbabwe',\n",
       " 'rwanda',\n",
       " 'drc',\n",
       " 'guinea',\n",
       " 'mali',\n",
       " 'togo',\n",
       " 'lesotho',\n",
       " 'sierra_leone',\n",
       " 'kenya']"
      ]
     },
     "metadata": {},
     "output_type": "display_data"
    }
   ],
   "source": [
    "countries = dhs.distinct('country').aggregate_array('country').getInfo()\n",
    "display(countries)"
   ]
  },
  {
   "cell_type": "code",
   "execution_count": 7,
   "metadata": {},
   "outputs": [
    {
     "name": "stdout",
     "output_type": "stream",
     "text": [
      "lx_median_2009-11_uganda_dhslocs\n",
      "570\n",
      "lx_median_2009-11_lesotho_dhslocs\n",
      "395\n",
      "lx_median_2009-11_mozambique_dhslocs\n",
      "879\n",
      "lx_median_2009-11_malawi_dhslocs\n",
      "827\n",
      "lx_median_2009-11_ethiopia_dhslocs\n",
      "571\n",
      "lx_median_2009-11_zimbabwe_dhslocs\n",
      "393\n",
      "lx_median_2009-11_senegal_dhslocs\n",
      "385\n",
      "lx_median_2009-11_tanzania_dhslocs\n",
      "1031\n",
      "lx_median_2009-11_burkina_faso_dhslocs\n",
      "541\n",
      "lx_median_2009-11_nigeria_dhslocs\n",
      "239\n",
      "lx_median_2009-11_rwanda_dhslocs\n",
      "492\n",
      "lx_median_2009-11_angola_dhslocs\n",
      "230\n",
      "lx_median_2009-11_cameroon_dhslocs\n",
      "577\n"
     ]
    }
   ],
   "source": [
    "countries = dhs_oldest.distinct('country').aggregate_array('country').getInfo()\n",
    "for i in countries:\n",
    "    df = dhs_oldest.filter(ee.Filter.eq('country', i))\n",
    "    fname = 'lx_median_2009-11_'+i+'_dhslocs'\n",
    "    print(fname)\n",
    "    print(df.size().getInfo())"
   ]
  },
  {
   "cell_type": "code",
   "execution_count": 8,
   "metadata": {},
   "outputs": [
    {
     "name": "stdout",
     "output_type": "stream",
     "text": [
      "lx_median_2012-14_senegal_dhslocs\n",
      "200\n",
      "lx_median_2012-14_benin_dhslocs\n",
      "746\n",
      "lx_median_2012-14_cote_d_ivoire_dhslocs\n",
      "341\n",
      "lx_median_2012-14_guinea_dhslocs\n",
      "300\n",
      "lx_median_2012-14_mali_dhslocs\n",
      "413\n",
      "lx_median_2012-14_malawi_dhslocs\n",
      "280\n",
      "lx_median_2012-14_zambia_dhslocs\n",
      "719\n",
      "lx_median_2012-14_nigeria_dhslocs\n",
      "889\n",
      "lx_median_2012-14_drc_dhslocs\n",
      "492\n",
      "lx_median_2012-14_togo_dhslocs\n",
      "330\n",
      "lx_median_2012-14_sierra_leone_dhslocs\n",
      "435\n",
      "lx_median_2012-14_ghana_dhslocs\n",
      "423\n",
      "lx_median_2012-14_burkina_faso_dhslocs\n",
      "248\n",
      "lx_median_2012-14_rwanda_dhslocs\n",
      "492\n",
      "lx_median_2012-14_kenya_dhslocs\n",
      "1585\n",
      "lx_median_2012-14_lesotho_dhslocs\n",
      "399\n",
      "lx_median_2012-14_uganda_dhslocs\n",
      "208\n"
     ]
    }
   ],
   "source": [
    "countries = dhs_middle.distinct('country').aggregate_array('country').getInfo()\n",
    "for i in countries:\n",
    "    df = dhs_middle.filter(ee.Filter.eq('country', i))\n",
    "    fname = 'lx_median_2012-14_'+i+'_dhslocs'\n",
    "    print(fname)\n",
    "    print(df.size().getInfo())"
   ]
  },
  {
   "cell_type": "code",
   "execution_count": 9,
   "metadata": {},
   "outputs": [
    {
     "name": "stdout",
     "output_type": "stream",
     "text": [
      "lx_median_2015-17_tanzania_dhslocs\n",
      "608\n",
      "lx_median_2015-17_nigeria_dhslocs\n",
      "322\n",
      "lx_median_2015-17_mali_dhslocs\n",
      "177\n",
      "lx_median_2015-17_malawi_dhslocs\n",
      "850\n",
      "lx_median_2015-17_kenya_dhslocs\n",
      "245\n",
      "lx_median_2015-17_angola_dhslocs\n",
      "625\n",
      "lx_median_2015-17_zimbabwe_dhslocs\n",
      "400\n",
      "lx_median_2015-17_ethiopia_dhslocs\n",
      "622\n",
      "lx_median_2015-17_ghana_dhslocs\n",
      "192\n"
     ]
    }
   ],
   "source": [
    "countries = dhs_recent.distinct('country').aggregate_array('country').getInfo()\n",
    "for i in countries:\n",
    "    df = dhs_recent.filter(ee.Filter.eq('country', i))\n",
    "    fname = 'lx_median_2015-17_'+i+'_dhslocs'\n",
    "    print(fname)\n",
    "    print(df.size().getInfo())"
   ]
  },
  {
   "cell_type": "markdown",
   "metadata": {},
   "source": [
    "## Mask out cloud, snow, and cloud shadow"
   ]
  },
  {
   "cell_type": "code",
   "execution_count": 20,
   "metadata": {},
   "outputs": [],
   "source": [
    "def decode_qamask(scene):\n",
    "    '''\n",
    "    Pixel QA Bit Flags\n",
    "    Bit  Attribute\n",
    "    0    Fill\n",
    "    1    Clear\n",
    "    2    Water\n",
    "    3    Cloud Shadow\n",
    "    4    Snow\n",
    "    5    Cloud\n",
    "    '''\n",
    "    qa = scene.select('pixel_qa')\n",
    "    clear = qa.bitwiseAnd(2).neq(0)\n",
    "    clear = clear.updateMask(clear).rename(['pxqa_clear'])\n",
    "\n",
    "    water = qa.bitwiseAnd(4).neq(0)\n",
    "    water = water.updateMask(water).rename(['pxqa_water'])\n",
    "\n",
    "    cloud_shadow = qa.bitwiseAnd(8).eq(0)\n",
    "    cloud_shadow = cloud_shadow.updateMask(cloud_shadow).rename(['pxqa_cloudshadow'])\n",
    "\n",
    "    snow = qa.bitwiseAnd(16).eq(0)\n",
    "    snow = snow.updateMask(snow).rename(['pxqa_snow'])\n",
    "\n",
    "    cloud = qa.bitwiseAnd(32).eq(0)\n",
    "    cloud = cloud.updateMask(cloud).rename(['pxqa_cloud'])\n",
    "\n",
    "    masks = ee.Image.cat([\n",
    "        clear, water, cloud_shadow, snow,\n",
    "        cloud\n",
    "    ])\n",
    "\n",
    "        # return scene.select(scene.bandNames().remove('pixel_qa')).addBands(masks)\n",
    "    return masks\n",
    "\n",
    "def mask_qaclear(img):\n",
    "\n",
    "    clear_mask = decode_qamask(img).select('pxqa_clear')\n",
    "    cloudshadow_mask = decode_qamask(img).select('pxqa_cloudshadow')\n",
    "    snow_mask = decode_qamask(img).select('pxqa_snow')\n",
    "    cloud_mask = decode_qamask(img).select('pxqa_cloud')\n",
    "        \n",
    "    return img.updateMask(cloudshadow_mask).updateMask(snow_mask).updateMask(cloud_mask).updateMask(snow_mask)"
   ]
  },
  {
   "cell_type": "markdown",
   "metadata": {},
   "source": [
    "## Multi-yr composite"
   ]
  },
  {
   "cell_type": "code",
   "execution_count": 18,
   "metadata": {},
   "outputs": [],
   "source": [
    "selbands = ['BLUE', 'GREEN', 'RED', 'NIR', 'SWIR1', 'SWIR2', 'TEMP1'] "
   ]
  },
  {
   "cell_type": "code",
   "execution_count": 21,
   "metadata": {},
   "outputs": [],
   "source": [
    "roi_recent = dhs_recent.geometry()\n",
    "srcoll_recent = optx.LandsatSR(roi_recent, '2015-1-1', '2017-12-31').merged\n",
    "srcoll_recent = srcoll_recent.map(mask_qaclear)\n",
    "srmedian_recent = srcoll_recent.select(selbands).median().reproject('EPSG:3857', None, 30)\n",
    "srmedian_recent = imgtools.add_latlon(srmedian_recent)"
   ]
  },
  {
   "cell_type": "code",
   "execution_count": 22,
   "metadata": {},
   "outputs": [],
   "source": [
    "roi_middle = dhs_middle.geometry()\n",
    "srcoll_middle = optx.LandsatSR(roi_middle, '2012-1-1', '2014-12-31').merged\n",
    "srcoll_middle = srcoll_middle.map(mask_qaclear)\n",
    "srmedian_middle = srcoll_middle.select(selbands).median().reproject('EPSG:3857', None, 30)\n",
    "srmedian_middle = imgtools.add_latlon(srmedian_middle)"
   ]
  },
  {
   "cell_type": "code",
   "execution_count": 23,
   "metadata": {},
   "outputs": [],
   "source": [
    "roi_oldest = dhs_oldest.geometry()\n",
    "srcoll_oldest = optx.LandsatSR(roi_oldest, '2009-1-1', '2011-12-31').merged\n",
    "srcoll_oldest = srcoll_oldest.map(mask_qaclear)\n",
    "srmedian_oldest = srcoll_oldest.select(selbands).median().reproject('EPSG:3857', None, 30)\n",
    "srmedian_oldest = imgtools.add_latlon(srmedian_oldest)"
   ]
  },
  {
   "cell_type": "markdown",
   "metadata": {},
   "source": [
    "## Add nightlight"
   ]
  },
  {
   "cell_type": "code",
   "execution_count": 24,
   "metadata": {},
   "outputs": [],
   "source": [
    "viirs = ee.ImageCollection(\"NOAA/VIIRS/DNB/MONTHLY_V1/VCMSLCFG\")\n",
    "dmsp = ee.ImageCollection(\"NOAA/DMSP-OLS/CALIBRATED_LIGHTS_V4\")"
   ]
  },
  {
   "cell_type": "code",
   "execution_count": 25,
   "metadata": {},
   "outputs": [],
   "source": [
    "nlband = ['NIGHTLIGHTS']\n",
    "viirs_recent = viirs.filterDate('2015-1-1', '2017-12-31').median().select([0],nlband)\n",
    "viirs_mid = viirs.filterDate('2012-1-1', '2014-12-31').median().select([0],nlband)\n",
    "dmsp_oldest = dmsp.filterDate('2009-1-1', '2011-12-31').median().select([0],nlband)"
   ]
  },
  {
   "cell_type": "code",
   "execution_count": 26,
   "metadata": {},
   "outputs": [],
   "source": [
    "srmedian_recent = srmedian_recent.addBands(viirs_recent.reproject('EPSG:3857', None, 30))\n",
    "srmedian_middle = srmedian_middle.addBands(viirs_mid.reproject('EPSG:3857', None, 30))\n",
    "srmedian_oldest = srmedian_oldest.addBands(dmsp_oldest.reproject('EPSG:3857', None, 30))"
   ]
  },
  {
   "cell_type": "markdown",
   "metadata": {},
   "source": [
    "## Add topography"
   ]
  },
  {
   "cell_type": "code",
   "execution_count": 27,
   "metadata": {},
   "outputs": [],
   "source": [
    "dem = ee.Image(\"USGS/SRTMGL1_003\")"
   ]
  },
  {
   "cell_type": "code",
   "execution_count": 28,
   "metadata": {},
   "outputs": [],
   "source": [
    "tbands = ['ELEV','SLO', 'ASP']\n",
    "topogr = ee.Algorithms.Terrain(dem).select(['elevation', 'slope', 'aspect'], tbands)"
   ]
  },
  {
   "cell_type": "code",
   "execution_count": 29,
   "metadata": {},
   "outputs": [],
   "source": [
    "srmedian_recent = srmedian_recent.addBands(topogr.reproject('EPSG:3857', None, 30))\n",
    "srmedian_middle = srmedian_middle.addBands(topogr.reproject('EPSG:3857', None, 30))\n",
    "srmedian_oldest = srmedian_oldest.addBands(topogr.reproject('EPSG:3857', None, 30))"
   ]
  },
  {
   "cell_type": "markdown",
   "metadata": {},
   "source": [
    "## Export TF Records"
   ]
  },
  {
   "cell_type": "code",
   "execution_count": 30,
   "metadata": {},
   "outputs": [],
   "source": [
    "dhsinfo = dhs_recent.first().propertyNames().getInfo()"
   ]
  },
  {
   "cell_type": "code",
   "execution_count": 34,
   "metadata": {},
   "outputs": [
    {
     "name": "stdout",
     "output_type": "stream",
     "text": [
      "lx_median_2015-17_tanzania_dhslocs_\n",
      "lx_median_2015-17_nigeria_dhslocs_\n",
      "lx_median_2015-17_mali_dhslocs_\n",
      "lx_median_2015-17_malawi_dhslocs_\n",
      "lx_median_2015-17_kenya_dhslocs_\n",
      "lx_median_2015-17_angola_dhslocs_\n",
      "lx_median_2015-17_zimbabwe_dhslocs_\n",
      "lx_median_2015-17_ethiopia_dhslocs_\n",
      "lx_median_2015-17_ghana_dhslocs_\n"
     ]
    }
   ],
   "source": [
    "countries = dhs_recent.distinct('country').aggregate_array('country').getInfo()\n",
    "for i in countries:\n",
    "    seldhs = dhs_recent.filter(ee.Filter.eq('country', i))\n",
    "    fname = 'lx_median_2015-17_'+i+'_dhslocs_'\n",
    "    print(fname)\n",
    "    \n",
    "    bands = selbands+dhsinfo+['LAT', 'LON']+tbands+nlband\n",
    "    \n",
    "    test = tf.get_array_patches(srmedian_recent, 30, 127, seldhs, \n",
    "                                   True, True, bands, None, \n",
    "                                   'sustainlab-common',\n",
    "                                   'Poverty_tfrecords/', \n",
    "                                   fname)"
   ]
  },
  {
   "cell_type": "code",
   "execution_count": 33,
   "metadata": {},
   "outputs": [],
   "source": [
    "service_account = 'datahandler1@earth-sys262cs325b.iam.gserviceaccount.com'\n",
    "credentials = ee.ServiceAccountCredentials(service_account, '/Users/zztang/Documents/EE/earth-sys262cs325b-d0222b03e2af.json')\n",
    "ee.Initialize(credentials)"
   ]
  },
  {
   "cell_type": "code",
   "execution_count": 35,
   "metadata": {},
   "outputs": [
    {
     "name": "stdout",
     "output_type": "stream",
     "text": [
      "lx_median_2012-14_senegal_dhslocs_\n",
      "lx_median_2012-14_benin_dhslocs_\n",
      "lx_median_2012-14_cote_d_ivoire_dhslocs_\n",
      "lx_median_2012-14_guinea_dhslocs_\n",
      "lx_median_2012-14_mali_dhslocs_\n",
      "lx_median_2012-14_malawi_dhslocs_\n",
      "lx_median_2012-14_zambia_dhslocs_\n",
      "lx_median_2012-14_nigeria_dhslocs_\n",
      "lx_median_2012-14_drc_dhslocs_\n",
      "lx_median_2012-14_togo_dhslocs_\n",
      "lx_median_2012-14_sierra_leone_dhslocs_\n",
      "lx_median_2012-14_ghana_dhslocs_\n",
      "lx_median_2012-14_burkina_faso_dhslocs_\n",
      "lx_median_2012-14_rwanda_dhslocs_\n",
      "lx_median_2012-14_kenya_dhslocs_\n",
      "lx_median_2012-14_lesotho_dhslocs_\n",
      "lx_median_2012-14_uganda_dhslocs_\n"
     ]
    }
   ],
   "source": [
    "countries = dhs_middle.distinct('country').aggregate_array('country').getInfo()\n",
    "for i in countries:\n",
    "    seldhs = dhs_middle.filter(ee.Filter.eq('country', i))\n",
    "    fname = 'lx_median_2012-14_'+i+'_dhslocs_'\n",
    "    print(fname)\n",
    "    \n",
    "    bands = selbands+dhsinfo+['LAT', 'LON']+tbands+nlband\n",
    "    \n",
    "    test = tf.get_array_patches(srmedian_middle, 30, 127, seldhs, \n",
    "                                   True, True, bands, None, \n",
    "                                   'sustainlab-common',\n",
    "                                   'Poverty_tfrecords/', \n",
    "                                   fname)"
   ]
  },
  {
   "cell_type": "code",
   "execution_count": 37,
   "metadata": {},
   "outputs": [
    {
     "name": "stdout",
     "output_type": "stream",
     "text": [
      "lx_median_2009-11_uganda_dhslocs_\n",
      "lx_median_2009-11_lesotho_dhslocs_\n",
      "lx_median_2009-11_mozambique_dhslocs_\n",
      "lx_median_2009-11_malawi_dhslocs_\n",
      "lx_median_2009-11_ethiopia_dhslocs_\n",
      "lx_median_2009-11_zimbabwe_dhslocs_\n",
      "lx_median_2009-11_senegal_dhslocs_\n",
      "lx_median_2009-11_tanzania_dhslocs_\n",
      "lx_median_2009-11_burkina_faso_dhslocs_\n",
      "lx_median_2009-11_nigeria_dhslocs_\n",
      "lx_median_2009-11_rwanda_dhslocs_\n",
      "lx_median_2009-11_angola_dhslocs_\n",
      "lx_median_2009-11_cameroon_dhslocs_\n"
     ]
    }
   ],
   "source": [
    "countries = dhs_oldest.distinct('country').aggregate_array('country').getInfo()\n",
    "for i in countries:\n",
    "    seldhs = dhs_oldest.filter(ee.Filter.eq('country', i))\n",
    "    fname = 'lx_median_2009-11_'+i+'_dhslocs_'\n",
    "    print(fname)\n",
    "    \n",
    "    bands = selbands+dhsinfo+['LAT', 'LON']+tbands+nlband\n",
    "    \n",
    "    test = tf.get_array_patches(srmedian_oldest, 30, 127, seldhs, \n",
    "                                   True, True, bands, None, \n",
    "                                   'sustainlab-common',\n",
    "                                   'Poverty_tfrecords/', \n",
    "                                   fname)"
   ]
  }
 ],
 "metadata": {
  "kernelspec": {
   "display_name": "Python 3",
   "language": "python",
   "name": "python3"
  },
  "language_info": {
   "codemirror_mode": {
    "name": "ipython",
    "version": 3
   },
   "file_extension": ".py",
   "mimetype": "text/x-python",
   "name": "python",
   "nbconvert_exporter": "python",
   "pygments_lexer": "ipython3",
   "version": "3.7.4"
  },
  "toc": {
   "base_numbering": 1,
   "nav_menu": {},
   "number_sections": true,
   "sideBar": true,
   "skip_h1_title": false,
   "title_cell": "Table of Contents",
   "title_sidebar": "Contents",
   "toc_cell": true,
   "toc_position": {},
   "toc_section_display": true,
   "toc_window_display": false
  }
 },
 "nbformat": 4,
 "nbformat_minor": 2
}
